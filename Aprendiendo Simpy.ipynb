{
 "cells": [
  {
   "cell_type": "markdown",
   "metadata": {},
   "source": [
    "Aprendiendo Simpy"
   ]
  },
  {
   "cell_type": "markdown",
   "metadata": {},
   "source": [
    "Lo primero es entender que es Simpy.\n",
    "\n",
    "Sympy es una libreria de python de simulación de eventos discretos. \n",
    "\n",
    "Todo lo que sucede tiene lugar en un 'enviroment' o 'entorno', este entorno responderá a eventos que rocurriran a lo largo del tiempo. Note que dichos eventos ocurren en tiempo discreto. Para crear dicho entorno, es necesario usar el comando *Enviroment()* y asignarlo a una variable. Se recomienda que dicha variable sea 'env', 'ent' o 'entorno' para facilitar su comprensión y uso.\n",
    "\n",
    "\n",
    "Se pueden hacer eventos a travéz de funciones, métodos o clases, a los cuales llamaremos 'procesos' o 'process'. Estos eventos tienen un inicio y un final. Un process es la cosa o accion que se realiza mientras que el tiempo transcurre hasta el un evento modifica el entorno. En otras palabras, un proceso es un intervalo de tiempo definido entre dos eventos.\n",
    "\n",
    "\n",
    "Una vez que el proceso ha terminado (para lo cual utilizamos el comando *yield*), momento en que ocurre un evento, simpy entrega un resumen del proceso. Esto se puede denotar con la frase 'event is processed'. Multiples procesos (acciones, cosas, situaciones, etc.) pueden ocurrir a la vez, simpy las recopila en el mismo orden en que finalizaron (yielded).\n",
    "\n",
    "Una manera de crear un evento es a travéz del comando \"timeout\". Los eventos de este tipo ocurren tras un lapso de tiempo, lo cual detiene el proceso (sleep). Su sintaxis es *Enviromet.timeout()*, donde 'Enviroment' es la respectiva variable de tipo *simpy.core.Environment*, es decir, nuestra variable 'env', 'ent' o 'entorno'. De modo que la sintaxis para los eventos es algo parecido a *env.timeout(time)*. Notese que time es el valor numérico que representa el lapso de tiempo transcurrido ($\\Delta t$).\n"
   ]
  },
  {
   "cell_type": "markdown",
   "metadata": {},
   "source": [
    "Ahora bien, para iniciar vamos a crear un proceso que simule el estado de un carro, el cual va a variar entre conducción y aparcado."
   ]
  },
  {
   "cell_type": "code",
   "execution_count": 1,
   "metadata": {},
   "outputs": [],
   "source": [
    "def carro(env): #Se usa la variable de entrada env como referencia del \"enviroment\" o \"entorno\"\n",
    "    while True: \n",
    "        print(f'Inicia el estacionado en: {env.now}') #env.now regresa el tiempo actual de la simulación\n",
    "        duracion_aparcado = 5\n",
    "        yield env.timeout(duracion_aparcado) #se crea el evento de estacionado/aparcado\n",
    "\n",
    "        print(f'Inicia la conducción en: {env.now}') \n",
    "        duracion_conduccion = 2\n",
    "        yield env.timeout(duracion_conduccion) #se crea el evento de conducción\n",
    "        "
   ]
  },
  {
   "cell_type": "markdown",
   "metadata": {},
   "source": [
    "Nuestra funcion de proceso requiere la entrada env para crear los eventos en el transcurso del tiempo. Dentro del ciclo while (aparentemente infinito) se encuentra la simulacion de la conducta del carro, el cual para nuestro ejemplo puede tener dos estados posibles: estacionado (o aparcado) y conduciendo. Como se habrá percatado, parece haber un bucle sin fin, pero este terminará cuando se llegue al tiempo especificado por *run(until=)*, es decir, hasta que el tiempo de ejecución termine. Una vez terminada la simulación, se muestra un resumen de esta.\n",
    "\n",
    "Ahora que hemos creado nuestro proceso de carro, a continucación vamos a generar uno (crear una instancia) para ver como se comporta:"
   ]
  },
  {
   "cell_type": "code",
   "execution_count": 2,
   "metadata": {},
   "outputs": [
    {
     "data": {
      "text/plain": [
       "<Process(carro) object at 0x1d7f52eb190>"
      ]
     },
     "execution_count": 2,
     "metadata": {},
     "output_type": "execute_result"
    }
   ],
   "source": [
    "import simpy\n",
    "\n",
    "env = simpy.Environment()\n",
    "env.process(carro(env))"
   ]
  },
  {
   "cell_type": "markdown",
   "metadata": {},
   "source": [
    "Y se ejecuta."
   ]
  },
  {
   "cell_type": "code",
   "execution_count": 3,
   "metadata": {},
   "outputs": [
    {
     "name": "stdout",
     "output_type": "stream",
     "text": [
      "Inicia el estacionado en: 0\n",
      "Inicia la conducción en: 5\n",
      "Inicia el estacionado en: 7\n",
      "Inicia la conducción en: 12\n",
      "Inicia el estacionado en: 14\n",
      "Inicia la conducción en: 19\n",
      "Inicia el estacionado en: 21\n"
     ]
    }
   ],
   "source": [
    "env.run(until=24)"
   ]
  },
  {
   "cell_type": "markdown",
   "metadata": {},
   "source": [
    "Como podemos observar, nos imprime el momento en que sucede cada evento."
   ]
  },
  {
   "cell_type": "markdown",
   "metadata": {},
   "source": [
    "La instancia de \"process\" que resulta del comando \"Enviroment.process()\" se puede sar para interacciones de procesos, como por ejemplo la secuencia de procesos y la interupción de procesos."
   ]
  },
  {
   "cell_type": "markdown",
   "metadata": {},
   "source": [
    "***Secuencia de procesos***\n",
    "\n",
    "Tambien conocido como *Waiting for a Process*, se pueden utilizar cuando tenemos eventos seguidos uno tras de otro, en secuencia. Un  ejemplo de esto es el anteriormente hecho."
   ]
  },
  {
   "cell_type": "markdown",
   "metadata": {},
   "source": [
    "***Interrupción de procesos***\n",
    "\n",
    "Juan trabaja en un despacho jurídico 8 horas al día 5 días a la semana, su entrada es a las 8 diariamente. Juan pidió permiso de salir antes porque el martes tiene que ir a la junta de la escuela de su hija a las 12pm (medio día), por lo que no va a regresar a trabajar sinó hasta el día sguiente. La junta de la escuela durará 2 horas.\n",
    "\n",
    "Vamos a simular la semana de Juan, de Lunes a Viernes."
   ]
  },
  {
   "cell_type": "code",
   "execution_count": 4,
   "metadata": {},
   "outputs": [],
   "source": [
    "class Juan(object):\n",
    "    def __init__(self, env):\n",
    "        self.env = env\n",
    "        self.accion = env.process(self.rutina())\n",
    "    \n",
    "    def rutina(self):\n",
    "        semana = {0:'Lunes', 1:'Martes', 2:'Miercoles', 3:'Jueves', 4:'Viernes'}\n",
    "        while True:\n",
    "            dia = self.env.now//24\n",
    "            print(f'Día {semana[dia]}')\n",
    "            #Antes del trabajo\n",
    "            \n",
    "            hora = self.env.now%24\n",
    "            print(f'A las {hora} horas Juan esta en su casa')\n",
    "            yield self.env.timeout(8)\n",
    "\n",
    "            #Llega al trabajo\n",
    "            hora = self.env.now%24\n",
    "            print(f'A las {hora} horas Juan esta en su trabajo')\n",
    "\n",
    "            try:\n",
    "                #Trabaja sus 8 horas\n",
    "                yield self.env.process(self.trabajar(8))\n",
    "            except simpy.Interrupt:\n",
    "                #Se tiene que ir a la junta de su hija\n",
    "                dia = self.env.now//24\n",
    "                hora = self.env.now%24\n",
    "                print(f'A las {hora} horas Juan va a la junta de su hija')\n",
    "                yield self.env.timeout(2)\n",
    "            \n",
    "            #Llega a la casa\n",
    "            hora = self.env.now%24\n",
    "            print(f'A las {hora} horas Juan esta en su casa\\n')\n",
    "            yield self.env.timeout(24-hora)\n",
    "\n",
    "\n",
    "    def trabajar(self, duracion):\n",
    "            yield self.env.timeout(duracion)"
   ]
  },
  {
   "cell_type": "code",
   "execution_count": 5,
   "metadata": {},
   "outputs": [],
   "source": [
    "def junta(env, persona):\n",
    "    yield env.timeout(24+12)\n",
    "    persona.accion.interrupt()"
   ]
  },
  {
   "cell_type": "code",
   "execution_count": 6,
   "metadata": {},
   "outputs": [
    {
     "name": "stdout",
     "output_type": "stream",
     "text": [
      "Día Lunes\n",
      "A las 0 horas Juan esta en su casa\n",
      "A las 8 horas Juan esta en su trabajo\n",
      "A las 16 horas Juan esta en su casa\n",
      "\n",
      "Día Martes\n",
      "A las 0 horas Juan esta en su casa\n",
      "A las 8 horas Juan esta en su trabajo\n",
      "A las 12 horas Juan va a la junta de su hija\n",
      "A las 14 horas Juan esta en su casa\n",
      "\n",
      "Día Miercoles\n",
      "A las 0 horas Juan esta en su casa\n",
      "A las 8 horas Juan esta en su trabajo\n",
      "A las 16 horas Juan esta en su casa\n",
      "\n",
      "Día Jueves\n",
      "A las 0 horas Juan esta en su casa\n",
      "A las 8 horas Juan esta en su trabajo\n",
      "A las 16 horas Juan esta en su casa\n",
      "\n",
      "Día Viernes\n",
      "A las 0 horas Juan esta en su casa\n",
      "A las 8 horas Juan esta en su trabajo\n",
      "A las 16 horas Juan esta en su casa\n",
      "\n"
     ]
    }
   ],
   "source": [
    "env = simpy.Environment()\n",
    "persona = Juan(env)\n",
    "env.process(junta(env,persona))\n",
    "env.run(until=120)"
   ]
  },
  {
   "cell_type": "markdown",
   "metadata": {},
   "source": [
    "***Recursos compartidos***\n",
    "\n",
    "Simpy tine el tipo *resources* (recurso) para cuando multiples procesos requieren de un mismo recurso. Esto lo podemos ver cuando hay dos procesos y uno no puede empezar hasta que el otro termine, como por ejemplo los modelos de servidores con disciplina FIFO (PEPS en español).\n",
    "\n",
    "Para ello usaremos de ejemplo una gasolinerade una sola bomba. Cuando lleguen dos carros consecutivos será necesario que el segundo espere hasta que el primero sea atendido y se marche de la bomba.\n",
    "\n",
    "Cuando se produzca el evento de la llegada de un carro a la gasolinería, este hará la *solicitud* para cargar gasolina. Si la bomba ya está en uso, esperará hasta que esta se desocupe, en ese momento comenzará la carga de su gasolina.\n",
    "\n",
    "El método *request()* genera un evento que permite esperar hasta que el recurso este disponible. Para nuestro ejemplo, es lo que indica que el segundo carro se mantenga en espera hasta que primero termine de cargar gasolina.\n",
    "\n",
    "Y hay dos maneras de generar un request o solisitud: con *with* o con *release()*. El primero hace que el carro ocupe el lugar de manera automática cuando se desocupa la bomba. Mientras que el segundo sería esperar hasta que de la señal para ocupar la bomba, es decir, de manera manual. Para nuestro ejemplo nos combiene usar *with*."
   ]
  },
  {
   "cell_type": "code",
   "execution_count": 7,
   "metadata": {},
   "outputs": [],
   "source": [
    "import simpy\n",
    "from random import random as rd\n",
    "from math import log"
   ]
  },
  {
   "cell_type": "code",
   "execution_count": 8,
   "metadata": {},
   "outputs": [],
   "source": [
    "def gasolinera(env, bomba, num, ll, ls):\n",
    "    for i in range(num): #El for es para delimitar en cuanto al número de carros que se van a atender\n",
    "        llegada = -log(rd())/ll #Se calcula el tiempo de llegada del carro\n",
    "        yield env.timeout(llegada)\n",
    "        print(f'---> Ha llegado el carro {i} en el minuto {round(env.now, 2)}')\n",
    "        env.process(carro(env, bomba, i, ls))"
   ]
  },
  {
   "cell_type": "code",
   "execution_count": 9,
   "metadata": {},
   "outputs": [],
   "source": [
    "def carro(env, bomba, num, ls): #esta funcion modela el servicio del carro, es decir, la carga\n",
    "    #Solicitud de carga de gasolina\n",
    "    with bomba.request() as req:\n",
    "        yield req\n",
    "\n",
    "        #Se carga gasolina\n",
    "        print(f'El carro {num} se comienza a cargar en el minuto {round(env.now, 2)}')\n",
    "        carga = -log(rd())/ls #Se calcula el tiempo de carga (servicio) \n",
    "        yield env.timeout(carga)\n",
    "        print(f'El carro {num} termina de cargar en el minuto {round(env.now, 2)}   --->')"
   ]
  },
  {
   "cell_type": "code",
   "execution_count": 10,
   "metadata": {},
   "outputs": [],
   "source": [
    "entorno = simpy.Environment()"
   ]
  },
  {
   "cell_type": "code",
   "execution_count": 11,
   "metadata": {},
   "outputs": [],
   "source": [
    "bomba = simpy.Resource(entorno, capacity=1)"
   ]
  },
  {
   "cell_type": "code",
   "execution_count": 12,
   "metadata": {},
   "outputs": [
    {
     "data": {
      "text/plain": [
       "<Process(gasolinera) object at 0x1d7f65fd090>"
      ]
     },
     "execution_count": 12,
     "metadata": {},
     "output_type": "execute_result"
    }
   ],
   "source": [
    "entorno.process(gasolinera(entorno, bomba, 7, 1/2, 1/3))"
   ]
  },
  {
   "cell_type": "code",
   "execution_count": 13,
   "metadata": {},
   "outputs": [
    {
     "name": "stdout",
     "output_type": "stream",
     "text": [
      "---> Ha llegado el carro 0 en el minuto 0.33\n",
      "El carro 0 se comienza a cargar en el minuto 0.33\n",
      "El carro 0 termina de cargar en el minuto 1.57   --->\n",
      "---> Ha llegado el carro 1 en el minuto 4.28\n",
      "El carro 1 se comienza a cargar en el minuto 4.28\n",
      "El carro 1 termina de cargar en el minuto 6.25   --->\n",
      "---> Ha llegado el carro 2 en el minuto 6.7\n",
      "El carro 2 se comienza a cargar en el minuto 6.7\n",
      "---> Ha llegado el carro 3 en el minuto 6.81\n",
      "---> Ha llegado el carro 4 en el minuto 6.91\n",
      "---> Ha llegado el carro 5 en el minuto 7.67\n",
      "El carro 2 termina de cargar en el minuto 8.65   --->\n",
      "El carro 3 se comienza a cargar en el minuto 8.65\n",
      "---> Ha llegado el carro 6 en el minuto 9.9\n",
      "El carro 3 termina de cargar en el minuto 10.9   --->\n",
      "El carro 4 se comienza a cargar en el minuto 10.9\n",
      "El carro 4 termina de cargar en el minuto 10.91   --->\n",
      "El carro 5 se comienza a cargar en el minuto 10.91\n",
      "El carro 5 termina de cargar en el minuto 11.25   --->\n",
      "El carro 6 se comienza a cargar en el minuto 11.25\n",
      "El carro 6 termina de cargar en el minuto 13.24   --->\n"
     ]
    }
   ],
   "source": [
    "entorno.run()"
   ]
  }
 ],
 "metadata": {
  "kernelspec": {
   "display_name": "Python 3",
   "language": "python",
   "name": "python3"
  },
  "language_info": {
   "codemirror_mode": {
    "name": "ipython",
    "version": 3
   },
   "file_extension": ".py",
   "mimetype": "text/x-python",
   "name": "python",
   "nbconvert_exporter": "python",
   "pygments_lexer": "ipython3",
   "version": "3.11.3"
  }
 },
 "nbformat": 4,
 "nbformat_minor": 2
}
