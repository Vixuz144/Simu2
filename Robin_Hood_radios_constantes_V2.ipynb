{
  "nbformat": 4,
  "nbformat_minor": 0,
  "metadata": {
    "colab": {
      "provenance": [],
      "authorship_tag": "ABX9TyN7wNC1/xH+KxrlRS0SZfL8",
      "include_colab_link": true
    },
    "kernelspec": {
      "name": "python3",
      "display_name": "Python 3"
    },
    "language_info": {
      "name": "python"
    }
  },
  "cells": [
    {
      "cell_type": "markdown",
      "metadata": {
        "id": "view-in-github",
        "colab_type": "text"
      },
      "source": [
        "<a href=\"https://colab.research.google.com/github/Vixuz144/Simu2/blob/main/Robin_Hood_radios_constantes_V2.ipynb\" target=\"_parent\"><img src=\"https://colab.research.google.com/assets/colab-badge.svg\" alt=\"Open In Colab\"/></a>"
      ]
    },
    {
      "cell_type": "markdown",
      "source": [
        "#Simulación"
      ],
      "metadata": {
        "id": "AzJS-n3AVw_X"
      }
    },
    {
      "cell_type": "markdown",
      "source": [
        "1. El primer paso es definir las variables que intervienen en el problema.\n",
        "\n",
        "Para ello, se desarrollarán las variables en coordenadas polares para luego transformarlas a coordenadas polares.\n",
        "\n",
        "* $Θ ∼ Exp[λ]$\n",
        "* $R ∼ U[0,\\mathcal{R}]$\n",
        "\n",
        "donde $\\mathcal{R}$ es el radio de un circulo dentro del cual se generarán las posiciones de los árboles y $λ$ es el parámetro del proceso de Poisson, lo cual para nuestro contexto será la densidad de árboles en el bosque de Sherwood (ρ).\n",
        "\n",
        "A partir de ambos parámetros es que se generará el proceso de Poisson que expresa la ubicación de los árboles del bosque de Sherwood.\n",
        "\n",
        "Además, se considerarán que todos los radios de los árboles son constantes, para nuestro ejemplo consideraremos que el radio será 1."
      ],
      "metadata": {
        "id": "q-sTBwMbW0He"
      }
    },
    {
      "cell_type": "markdown",
      "source": [
        "2. En adición, las funcioness de distribución de probabilida de estas dos variables son:\n",
        "\n",
        "$$ f_Θ(θ) = λe^{-λθ}, \\quad \\textrm{para } θ \\geq 0, \\ θ\\in\\mathbb{R} $$\n",
        "$$ f_R(r) = \\frac{1}{\\mathcal{R}}, \\quad \\textrm{para } r \\in [0, \\mathcal{R}], \\ r\\in\\mathbb{R} $$"
      ],
      "metadata": {
        "id": "nyB9BQfraxLr"
      }
    },
    {
      "cell_type": "markdown",
      "source": [
        "3. Y las funciones de distribución acumulada de ambas variables son:\n",
        "\n"
      ],
      "metadata": {
        "id": "0ieE1d5cd89a"
      }
    },
    {
      "cell_type": "markdown",
      "source": [
        "$$ F_Θ(θ) = 1 - e^{-λθ}, \\quad \\textrm{para } θ \\geq 0, \\ θ\\in\\mathbb{R} $$\n",
        "$$ F_R(r) = \\frac{r}{\\mathcal{R}}, \\quad \\textrm{para } r \\in [0, \\mathcal{R}], \\ r\\in\\mathbb{R} $$"
      ],
      "metadata": {
        "id": "BtH1NuZMeNvz"
      }
    },
    {
      "cell_type": "markdown",
      "source": [
        "3. Con todo esto, podemos pasar a generar los árboles del bosque de Sherwood y realizar el lanzamiento de la flecha. Para lo cual haremos uso de la siguiente función."
      ],
      "metadata": {
        "id": "IKUGiE2iegbJ"
      }
    },
    {
      "cell_type": "code",
      "execution_count": 1,
      "metadata": {
        "id": "fmE7qlODWsWQ"
      },
      "outputs": [],
      "source": [
        "from random import random\n",
        "import numpy as np\n",
        "from scipy.stats import norm\n",
        "import matplotlib.pyplot as plt\n",
        "from numba import jit"
      ]
    },
    {
      "cell_type": "code",
      "source": [
        "@jit(nopython = True)\n",
        "def bosque_flecha(ρ, r = 1):\n",
        "  n = 0\n",
        "  X = []\n",
        "  R = []\n",
        "  θ = []\n",
        "  while True:\n",
        "    n += 1\n",
        "    X.append(-np.log(random())/ρ)\n",
        "    R.append(np.sqrt(sum(X)/np.pi))\n",
        "    θ.append(2*np.pi*random())\n",
        "    if R[-1]*abs(np.sin(θ[-1])) < r and  R[-1]*np.cos(θ[-1]) > 0:\n",
        "      break\n",
        "\n",
        "  d = R[-1] - r\n",
        "\n",
        "  return R, θ, d"
      ],
      "metadata": {
        "id": "NWCYychTZrXV"
      },
      "execution_count": 5,
      "outputs": []
    },
    {
      "cell_type": "markdown",
      "source": [
        "Esta función genera el proceso de Poisson bivariado. Además de generar los radios de los árboles y simula el lanzamiento de una flecha en el eje positivo $x$. El proceso de Poisson bivariado se detiene hasta que se genere un punto en el espacio (árbol) que impacte con el disparo, lo cual se comprueba la distancia del árbol con el radio de dicho árbol.\n",
        "\n",
        "* Entradas:\n",
        "  * ρ: parámetro del proceso de Poisson (λ). Densidad media de arboles en el bosque de Sherwood. Debe ser positivo.\n",
        "  * r: radio constante de los árboles.\n",
        "\n",
        "\n",
        "* Salidas:\n",
        "  * R: lista con las radios de las coordenadas polares de los arboles.\n",
        "  * θ: lista con las ángulos (radianes) de las coordenadas polares de los arboles.\n",
        "  * d: flotante, distacia que recorrió la flecha hasta el impacto con un árbol."
      ],
      "metadata": {
        "id": "_vfjF42IfVv4"
      }
    },
    {
      "cell_type": "markdown",
      "source": [
        "4. Ahora, veamos la función en acción. Para ello consideraremos una densidad de $0.005\\frac{árboles}{m^2}$ para nuestra simulación y que los radios de los árboles tienen una distribución uniforme en $[0,2]$."
      ],
      "metadata": {
        "id": "CsgKc5Lzgr0J"
      }
    },
    {
      "cell_type": "code",
      "source": [
        "densidad = 0.005\n",
        "r = 1"
      ],
      "metadata": {
        "id": "YnHj_LkZg_TQ"
      },
      "execution_count": 6,
      "outputs": []
    },
    {
      "cell_type": "code",
      "source": [
        "R, θ, d = bosque_flecha(densidad, r)\n",
        "X = R*np.cos(θ)\n",
        "Y = R*np.sin(θ)\n",
        "x, y = X[-1], Y[-1]\n",
        "\n",
        "print(f'El disparo de la flecha recorió {d}m hasta impactar con el árbol centrado en ({x},{y}) y con radio {r}m')"
      ],
      "metadata": {
        "id": "TeUlgrbthCRQ",
        "colab": {
          "base_uri": "https://localhost:8080/"
        },
        "outputId": "162f02e0-8d9a-4d8e-a1c8-ff8c8f0903fb"
      },
      "execution_count": 7,
      "outputs": [
        {
          "output_type": "stream",
          "name": "stdout",
          "text": [
            "El disparo de la flecha recorió 17.542337755637494m hasta impactar con el árbol centrado en (18.532193092926402,0.6132769444799497) y con radio 1\n"
          ]
        }
      ]
    },
    {
      "cell_type": "markdown",
      "source": [
        "Y a continuación se muestra una gráfica del bosque. El punto blanco es el origen, los puntos verdes los árboles y el punto rojo es el árbol con el que impactó la flecha."
      ],
      "metadata": {
        "id": "EZDUKRDe_TWg"
      }
    },
    {
      "cell_type": "code",
      "source": [
        "plt.style.use('dark_background')\n",
        "plt.plot(X,Y, '.g')\n",
        "plt.plot(0,0, 'ow')\n",
        "plt.plot(X[-1],Y[-1], 'or')\n",
        "plt.title('Proceso de Poisson Bivariado')\n",
        "plt.grid(color='gray')\n",
        "plt.show()"
      ],
      "metadata": {
        "id": "PJbEtuVleNUy",
        "colab": {
          "base_uri": "https://localhost:8080/",
          "height": 452
        },
        "outputId": "84ba8d14-3860-4a78-c201-f6387feceae1"
      },
      "execution_count": 9,
      "outputs": [
        {
          "output_type": "display_data",
          "data": {
            "text/plain": [
              "<Figure size 640x480 with 1 Axes>"
            ],
            "image/png": "[encoded data removed]"
          },
          "metadata": {}
        }
      ]
    },
    {
      "cell_type": "markdown",
      "source": [
        "5. Ya que tenemos la simulación de un tiro, solo queda repetir los tiros varias veces para poder observar el comportamiento del proceso gracias al método de Monte Carlo. De manera que podamos llegar al estado estable de la simulación. Para ello es que usaremos la siguiente función."
      ],
      "metadata": {
        "id": "Xp3VdYdPhjY1"
      }
    },
    {
      "cell_type": "code",
      "source": [
        "@jit(nopython = True)\n",
        "def experimento(ρ, r=1, n = 10**4):\n",
        "  l = []\n",
        "  for i in range(n):\n",
        "    _, _, d = bosque_flecha(ρ,r)\n",
        "    l.append(d)\n",
        "  return l"
      ],
      "metadata": {
        "id": "8635Fqmhh9BB"
      },
      "execution_count": 10,
      "outputs": []
    },
    {
      "cell_type": "markdown",
      "source": [
        "Se establecen lo parámetros de entrada de la función."
      ],
      "metadata": {
        "id": "L-OnLlNW_3r7"
      }
    },
    {
      "cell_type": "code",
      "source": [
        "densidad = 0.005\n",
        "r = 1\n",
        "n = 10**5"
      ],
      "metadata": {
        "id": "Wkc0IeLIUCeT"
      },
      "execution_count": 11,
      "outputs": []
    },
    {
      "cell_type": "markdown",
      "source": [
        "Se ejecuta la función y se encuentra un intervalo de confianza para el valor esperado de la distancia recorrida por la flecha hasta el impacto."
      ],
      "metadata": {
        "id": "gFGBncX4_2IF"
      }
    },
    {
      "cell_type": "code",
      "source": [
        "l = experimento(densidad, r, n)"
      ],
      "metadata": {
        "id": "Z6bg0gkOLSR2"
      },
      "execution_count": 12,
      "outputs": []
    },
    {
      "cell_type": "code",
      "source": [
        "m = np.mean(l)\n",
        "ds = np.std(l, ddof=1)\n",
        "z = norm.ppf(0.975)\n",
        "print(f'El intervalo de confianza del 95% es [{m - z*ds/np.sqrt(n)}, {m + z*ds/np.sqrt(n)}]')"
      ],
      "metadata": {
        "colab": {
          "base_uri": "https://localhost:8080/"
        },
        "id": "J5P-NPMHUFoa",
        "outputId": "8ea07f06-472a-4d26-9032-1e3689bb958a"
      },
      "execution_count": 13,
      "outputs": [
        {
          "output_type": "stream",
          "name": "stdout",
          "text": [
            "El intervalo de confianza del 95% es [98.3961379968832, 99.63613638331637]\n"
          ]
        }
      ]
    },
    {
      "cell_type": "markdown",
      "source": [
        "6. Además, para poder visualizar de mejor manera los resultados del Monte Carlo, se presenta la siguiente gráfica del comportamiento de la simulación para ilustrar el estado transitorio y el estado estable de la simulación conforme el transcurso de las iteraciones."
      ],
      "metadata": {
        "id": "8T5skVqGAKFh"
      }
    },
    {
      "cell_type": "code",
      "source": [
        "@jit(nopython = True)\n",
        "def graf(l, p=1):\n",
        "  ls = []\n",
        "  for i in range(1,n):\n",
        "    a = np.array(l[:i:p])\n",
        "    ls.append(a.mean())\n",
        "\n",
        "  return ls"
      ],
      "metadata": {
        "id": "_osb3XzFAxLx"
      },
      "execution_count": 14,
      "outputs": []
    },
    {
      "cell_type": "code",
      "source": [
        "ls = graf(l)\n",
        "\n",
        "plt.plot(ls)\n",
        "plt.show()"
      ],
      "metadata": {
        "colab": {
          "base_uri": "https://localhost:8080/",
          "height": 430
        },
        "id": "wKosPA6_LiyM",
        "outputId": "2fe791cd-f7a7-433f-8ad1-417bc04fd9a6"
      },
      "execution_count": 15,
      "outputs": [
        {
          "output_type": "display_data",
          "data": {
            "text/plain": [
              "<Figure size 640x480 with 1 Axes>"
            ],
            "image/png": "[encoded data removed]"
          },
          "metadata": {}
        }
      ]
    },
    {
      "cell_type": "markdown",
      "source": [
        "7. Finalmente, repetimos el experimento varias veces para encontrar la media de medias muestrales, la cual será el valor más aproximado a la distancia media que recorrerá la flecha hasta chocar con un árbol."
      ],
      "metadata": {
        "id": "Fct6GDp5IYXJ"
      }
    },
    {
      "cell_type": "code",
      "source": [
        "@jit(nopython = True)\n",
        "def rep(ρ, r, n = 10**3, n_rep = 10**2):\n",
        "  l = []\n",
        "  for i in range(n_rep):\n",
        "    d = experimento(ρ, r, n)\n",
        "    D = np.array(d)\n",
        "    l.append(D.mean())\n",
        "  return l"
      ],
      "metadata": {
        "id": "14Rz1l-KIYJA"
      },
      "execution_count": 16,
      "outputs": []
    },
    {
      "cell_type": "code",
      "source": [
        "l = rep(densidad, r)"
      ],
      "metadata": {
        "id": "krn1R6MlJUoA"
      },
      "execution_count": 17,
      "outputs": []
    },
    {
      "cell_type": "code",
      "source": [
        "print(f'E[distancia recorrida por la flecha] = {np.mean(l)}')"
      ],
      "metadata": {
        "colab": {
          "base_uri": "https://localhost:8080/"
        },
        "id": "-T2SxC_oJ9BI",
        "outputId": "c6875644-0d1f-43b3-c2c4-beb32409b425"
      },
      "execution_count": 18,
      "outputs": [
        {
          "output_type": "stream",
          "name": "stdout",
          "text": [
            "E[distancia recorrida por la flecha] = 99.60897314609291\n"
          ]
        }
      ]
    }
  ]
}