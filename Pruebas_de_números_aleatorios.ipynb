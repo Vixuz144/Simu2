{
  "nbformat": 4,
  "nbformat_minor": 0,
  "metadata": {
    "colab": {
      "provenance": [],
      "authorship_tag": "ABX9TyN8HH2rFA+Cl9FNW+AJiSiS",
      "include_colab_link": true
    },
    "kernelspec": {
      "name": "python3",
      "display_name": "Python 3"
    },
    "language_info": {
      "name": "python"
    }
  },
  "cells": [
    {
      "cell_type": "markdown",
      "metadata": {
        "id": "view-in-github",
        "colab_type": "text"
      },
      "source": [
        "<a href=\"https://colab.research.google.com/github/Vixuz144/Simu2/blob/main/Pruebas_de_n%C3%BAmeros_aleatorios.ipynb\" target=\"_parent\"><img src=\"https://colab.research.google.com/assets/colab-badge.svg\" alt=\"Open In Colab\"/></a>"
      ]
    },
    {
      "cell_type": "code",
      "execution_count": 154,
      "metadata": {
        "id": "TAH6M7dYQyrn"
      },
      "outputs": [],
      "source": [
        "import numpy as np\n",
        "from scipy.stats import chi2, chisquare, kstest"
      ]
    },
    {
      "cell_type": "code",
      "source": [
        "def conteo(datos, a, b, n):\n",
        "  l = []\n",
        "  d = (b-a)/n\n",
        "  for i in range(n):\n",
        "    li = a + i*d\n",
        "    ls = d + i*d\n",
        "    q = li<=datos\n",
        "    w = datos<ls\n",
        "    e = np.equal(w,q)\n",
        "    c = list(e).count(True)\n",
        "    l.append(c)\n",
        "  return l"
      ],
      "metadata": {
        "id": "q-ydYvT9XsNr"
      },
      "execution_count": 155,
      "outputs": []
    },
    {
      "cell_type": "code",
      "source": [
        "def rachas(datos, m, n):\n",
        "  d = np.reshape(datos,(m,n))\n",
        "  d = np.transpose(d)\n",
        "  n = len(datos)\n",
        "  d = np.reshape(d,n)\n",
        "  l = []\n",
        "\n",
        "  for i in range(1,n):\n",
        "    l.append(d[i]>d[i-1])\n",
        "\n",
        "  r = 1\n",
        "  for i in range(n-2):\n",
        "    if l[i] != l[i+1]:\n",
        "      r+=1\n",
        "  m = (2*n-1)/3\n",
        "  s = np.sqrt((16*n-29)/90)\n",
        "  z = (r-m)/s\n",
        "  return r, z"
      ],
      "metadata": {
        "id": "XEVLPuJdi7Z9"
      },
      "execution_count": 156,
      "outputs": []
    },
    {
      "cell_type": "code",
      "source": [
        "def ks(datos):\n",
        "  x = np.sort(datos)\n",
        "  n = len(x)\n",
        "  i = np.arange(1,n+1)\n",
        "  d1 = max(np.abs(i/n-x))\n",
        "  d2 = max(np.abs(x-(i-1)/n))\n",
        "  D = max(d1,d2)\n",
        "  print(d1, d2, D)"
      ],
      "metadata": {
        "id": "WZkIr3nGtFRI"
      },
      "execution_count": 157,
      "outputs": []
    },
    {
      "cell_type": "markdown",
      "source": [
        "#a)\n"
      ],
      "metadata": {
        "id": "pwzjp4UIrrBT"
      }
    },
    {
      "cell_type": "code",
      "source": [
        "a = np.array([0.0449, 0.1733, 0.5746, 0.049, 0.8406, 0.8349, 0.92, 0.2564, 0.6015, 0.6694, 0.3972, 0.7025, 0.1055, 0.1247, 0.1977, 0.0125, 0.63, 0.2531, 0.8297, 0.6483, 0.6972, 0.9582, 0.9085, 0.8524, 0.5514, 0.0316, 0.3587, 0.7041, 0.5915, 0.2523, 0.2545, 0.3044, 0.0207, 0.1067, 0.3857, 0.1746, 0.3362, 0.1589, 0.3727, 0.4145])\n",
        "l = conteo(a, 0, 1, 5)\n",
        "print(l)\n",
        "chisquare(l, 8*np.ones(5))"
      ],
      "metadata": {
        "colab": {
          "base_uri": "https://localhost:8080/"
        },
        "id": "sEjOm1QYR9q6",
        "outputId": "be93d2cf-9322-478c-ef27-a499eee7bb8b"
      },
      "execution_count": 158,
      "outputs": [
        {
          "output_type": "stream",
          "name": "stdout",
          "text": [
            "[12, 10, 4, 7, 7]\n"
          ]
        },
        {
          "output_type": "execute_result",
          "data": {
            "text/plain": [
              "Power_divergenceResult(statistic=np.float64(4.75), pvalue=np.float64(0.3139239010859892))"
            ]
          },
          "metadata": {},
          "execution_count": 158
        }
      ]
    },
    {
      "cell_type": "code",
      "source": [
        "r, z = rachas(a,5,8)\n",
        "print(r, z)"
      ],
      "metadata": {
        "colab": {
          "base_uri": "https://localhost:8080/"
        },
        "id": "ZKr5xbaQq2mF",
        "outputId": "3275213f-326a-4417-8a8e-f1e112fcea7e"
      },
      "execution_count": 159,
      "outputs": [
        {
          "output_type": "stream",
          "name": "stdout",
          "text": [
            "31 1.7910488474113213\n"
          ]
        }
      ]
    },
    {
      "cell_type": "code",
      "source": [
        "ks(a)\n",
        "kstest(a,'uniform')"
      ],
      "metadata": {
        "colab": {
          "base_uri": "https://localhost:8080/"
        },
        "id": "ingw7Vgjwb3W",
        "outputId": "73bffab3-a9dc-4273-a363-11896cd1e796"
      },
      "execution_count": 160,
      "outputs": [
        {
          "output_type": "stream",
          "name": "stdout",
          "text": [
            "0.16049999999999998 0.13550000000000006 0.16049999999999998\n"
          ]
        },
        {
          "output_type": "execute_result",
          "data": {
            "text/plain": [
              "KstestResult(statistic=np.float64(0.16049999999999998), pvalue=np.float64(0.22834995725921692), statistic_location=np.float64(0.4145), statistic_sign=np.int8(1))"
            ]
          },
          "metadata": {},
          "execution_count": 160
        }
      ]
    },
    {
      "cell_type": "markdown",
      "source": [
        "#b)\n"
      ],
      "metadata": {
        "id": "JE5fwnd-i7zn"
      }
    },
    {
      "cell_type": "code",
      "source": [
        "t = '0.347 0.832 0.966 0.472 0.797 0.101 0.696 0.966 0.404 0.603 0.993 0.371 0.729 0.067 0.189 0.977 0.843 0.562 0.549 0.992 0.674 0.628 0.055 0.494 0.494 0.235 0.178 0.775 0.797 0.252 0.426 0.054 0.022 0.742 0.674 0.898 0.641 0.674 0.821 0.19 0.46 0.224 0.99 0.786 0.393 0.461 0.011 0.977 0.246 0.881 0.189 0.753 0.73 0.797 0.292 0.876 0.707 0.562 0.562 0.821 0.112 0.191 0.584 0.347 0.426 0.057 0.819 0.303 0.404 0.64 0.37 0.314 0.731 0.742 0.213 0.472 0.641 0.944 0.28 0.663 0.909 0.764 0.999 0.303 0.718 0.933 0.056 0.415 0.819 0.444 0.178 0.516 0.437 0.393 0.268 0.123 0.945 0.527 0.459 0.652'\n",
        "b = np.array(t.split(' '), dtype=float)\n",
        "#print(b)\n",
        "l = conteo(b, 0, 1, 5)\n",
        "print(l)\n",
        "chisquare(l, 20*np.ones(5))"
      ],
      "metadata": {
        "colab": {
          "base_uri": "https://localhost:8080/"
        },
        "id": "naBzitQjXSOG",
        "outputId": "7a692a54-83e1-4905-9413-c1f71dbcce0e"
      },
      "execution_count": 164,
      "outputs": [
        {
          "output_type": "stream",
          "name": "stdout",
          "text": [
            "[16, 17, 21, 25, 21]\n"
          ]
        },
        {
          "output_type": "execute_result",
          "data": {
            "text/plain": [
              "Power_divergenceResult(statistic=np.float64(2.5999999999999996), pvalue=np.float64(0.6268231239782291))"
            ]
          },
          "metadata": {},
          "execution_count": 164
        }
      ]
    },
    {
      "cell_type": "code",
      "source": [
        "r, z = rachas(b,10,10)\n",
        "print(r, z)"
      ],
      "metadata": {
        "colab": {
          "base_uri": "https://localhost:8080/"
        },
        "id": "K9m1-5oYrbLE",
        "outputId": "393ac991-3328-415b-e1cc-d5c0e3743c0e"
      },
      "execution_count": 162,
      "outputs": [
        {
          "output_type": "stream",
          "name": "stdout",
          "text": [
            "71 1.116965973232688\n"
          ]
        }
      ]
    },
    {
      "cell_type": "code",
      "source": [
        "ks(b)\n",
        "kstest(b,'uniform')"
      ],
      "metadata": {
        "colab": {
          "base_uri": "https://localhost:8080/"
        },
        "id": "q0LO--BRxjE7",
        "outputId": "9ad2426f-4b13-4d2f-f214-652072c85451"
      },
      "execution_count": 163,
      "outputs": [
        {
          "output_type": "stream",
          "name": "stdout",
          "text": [
            "0.07300000000000001 0.08300000000000002 0.08300000000000002\n"
          ]
        },
        {
          "output_type": "execute_result",
          "data": {
            "text/plain": [
              "KstestResult(statistic=np.float64(0.08300000000000002), pvalue=np.float64(0.4712020446047783), statistic_location=np.float64(0.393), statistic_sign=np.int8(-1))"
            ]
          },
          "metadata": {},
          "execution_count": 163
        }
      ]
    }
  ]
}