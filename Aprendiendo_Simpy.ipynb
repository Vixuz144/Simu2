{
  "cells": [
    {
      "cell_type": "markdown",
      "metadata": {
        "id": "view-in-github",
        "colab_type": "text"
      },
      "source": [
        "<a href=\"https://colab.research.google.com/github/Vixuz144/Simu2/blob/main/Aprendiendo_Simpy.ipynb\" target=\"_parent\"><img src=\"https://colab.research.google.com/assets/colab-badge.svg\" alt=\"Open In Colab\"/></a>"
      ]
    },
    {
      "cell_type": "markdown",
      "metadata": {
        "id": "GgvGH56ShW10"
      },
      "source": [
        "#Introducción"
      ]
    },
    {
      "cell_type": "markdown",
      "metadata": {
        "id": "VZHlTEAVhW14"
      },
      "source": [
        "Lo primero es entender que es Simpy.\n",
        "\n",
        "Sympy es una libreria de python de simulación de eventos discretos.\n",
        "\n",
        "Todo lo que sucede tiene lugar en un 'enviroment' o 'entorno', este entorno responderá a eventos que ocurriran a lo largo del tiempo. Para crear dicho entorno, es necesario usar el comando *Enviroment()* y asignarlo a una variable. Se recomienda que dicha variable sea 'env', 'ent' o 'entorno' para facilitar su comprensión y uso.\n",
        "\n",
        "\n",
        "Se pueden crear eventos a través de funciones, métodos o clases, a los cuales llamaremos 'procesos' o 'process'. Estos eventos tienen un inicio y un final. Podemos entender un process como la cosa o acción que se realiza mientras que el tiempo transcurre hasta que un evento modifica el entorno. En otras palabras, un proceso es un intervalo de tiempo definido entre dos eventos.\n",
        "\n",
        "Para poder generar el evento se usa el comando  *yield*, con lo que indicamos que un proceso ha terminado. Esto se puede denotar con la frase 'event is processed'. Multiples procesos (acciones, cosas, situaciones, etc.) pueden ocurrir a la vez, simpy las recopila en el mismo orden en que finalizaron.\n",
        "\n",
        "Además del comando *yield*, para crear un evento usamos el mpetodo \"timeout\". Los eventos de este tipo ocurren tras un lapso de tiempo, lo cual detiene el proceso (sleep). Su sintaxis es *Enviromet.timeout()*, donde 'Enviroment' es la respectiva variable de tipo *simpy.core.Environment*, es decir, nuestra variable 'env', 'ent' o 'entorno'. De modo que la sintaxis para los eventos es algo parecido a *env.timeout(time)*. Notese que *time* es el valor numérico que representa el lapso de tiempo transcurrido ($\\Delta t$), el cual puede ser entero o flotante.\n"
      ]
    },
    {
      "cell_type": "markdown",
      "metadata": {
        "id": "E6FlQh7-hW15"
      },
      "source": [
        "Ahora bien, para iniciar vamos a crear un proceso que simule el estado de un carro, el cual va a variar entre conducción y aparcado."
      ]
    },
    {
      "cell_type": "code",
      "execution_count": null,
      "metadata": {
        "id": "E5OqteQzhW16"
      },
      "outputs": [],
      "source": [
        "def carro(env): #Se usa la variable de entrada env como referencia del \"enviroment\" o \"entorno\"\n",
        "    while True:\n",
        "        print(f'Inicia el estacionado en: {env.now}') #env.now regresa el tiempo actual de la simulación\n",
        "        duracion_aparcado = 5\n",
        "        yield env.timeout(duracion_aparcado) #se crea el evento de estacionado/aparcado\n",
        "\n",
        "        print(f'Inicia la conducción en: {env.now}')\n",
        "        duracion_conduccion = 2\n",
        "        yield env.timeout(duracion_conduccion) #se crea el evento de conducción\n",
        ""
      ]
    },
    {
      "cell_type": "markdown",
      "metadata": {
        "id": "VXfnUoRBhW18"
      },
      "source": [
        "Nuestra funcion de proceso requiere la entrada env para crear los eventos en el transcurso del tiempo. Dentro del ciclo while (aparentemente infinito) se encuentra la simulacion de la conducta del carro, el cual para nuestro ejemplo puede tener dos estados posibles: estacionado (o aparcado) y conduciendo.\n",
        "\n",
        "Para familiarizarnos con la librería, en esta ocasión las duraciones de los procesos serán constantes. Estableciendo que la duración del proceso de estacionado\\aparcado será de 5 y la duración del proceso de conducción será de 2 (digamos, minutos).\n",
        "\n",
        "Cabe mencionar que las lineas 5 y 9 son aquellas que hacen toda la \"magia\". Puesto que estas lineas son aquellas que mediante *yield* y *timeout* permiten el registro y paso del tiempo en el entorno.\n",
        "\n",
        "Como se habrá percatado, parece haber un bucle sin fin, pero este terminará cuando se llegue al tiempo especificado por *run(until=)*, es decir, hasta que el tiempo de ejecución termine. Una vez terminada la simulación, se presenta un resumen de la misma a partír de los *print* utilizados.\n",
        "\n",
        "Sin embargo, se deja al lector la tarea de entender que hace *env.now*."
      ]
    },
    {
      "cell_type": "markdown",
      "source": [
        "\n",
        "Ahora que hemos creado nuestro proceso que describe nuestro carro, a continucación vamos a generar uno (crear una instancia) y veamos como se comporta:"
      ],
      "metadata": {
        "id": "m6FC7jYgrpCc"
      }
    },
    {
      "cell_type": "markdown",
      "source": [
        "Para ello, usaremos como era de esperar la librería de simpy"
      ],
      "metadata": {
        "id": "g9BEuElMry0k"
      }
    },
    {
      "cell_type": "code",
      "source": [
        "import simpy"
      ],
      "metadata": {
        "id": "mtJLIggyr4-X"
      },
      "execution_count": null,
      "outputs": []
    },
    {
      "cell_type": "code",
      "execution_count": null,
      "metadata": {
        "id": "zIRmEGQUhW19",
        "outputId": "0e6ca592-e613-4e1c-9d7d-774deb3ce332"
      },
      "outputs": [
        {
          "data": {
            "text/plain": [
              "<Process(carro) object at 0x1d7f52eb190>"
            ]
          },
          "execution_count": 2,
          "metadata": {},
          "output_type": "execute_result"
        }
      ],
      "source": [
        "env = simpy.Environment()\n",
        "env.process(carro(env))"
      ]
    },
    {
      "cell_type": "markdown",
      "metadata": {
        "id": "cUizcwlzhW1-"
      },
      "source": [
        "Y se ejecuta con el método *run*."
      ]
    },
    {
      "cell_type": "code",
      "execution_count": null,
      "metadata": {
        "id": "Ev5vCP_ChW1-",
        "outputId": "0aceb45d-d793-48f5-b531-ac5c3b8deb7f"
      },
      "outputs": [
        {
          "name": "stdout",
          "output_type": "stream",
          "text": [
            "Inicia el estacionado en: 0\n",
            "Inicia la conducción en: 5\n",
            "Inicia el estacionado en: 7\n",
            "Inicia la conducción en: 12\n",
            "Inicia el estacionado en: 14\n",
            "Inicia la conducción en: 19\n",
            "Inicia el estacionado en: 21\n"
          ]
        }
      ],
      "source": [
        "env.run(until=24)"
      ]
    },
    {
      "cell_type": "markdown",
      "metadata": {
        "id": "mcTkdaG_hW1-"
      },
      "source": [
        "Como podemos observar, nos imprime el momento en que sucede cada evento hasta que se detiene con el valor que toma *until*."
      ]
    },
    {
      "cell_type": "markdown",
      "metadata": {
        "id": "hR9uN12zhW1_"
      },
      "source": [
        "La instancia de \"process\" que resulta del comando \"Enviroment.process()\" se puede usar para interacciones de procesos, como por ejemplo la secuencia de procesos y la interupción de procesos."
      ]
    },
    {
      "cell_type": "markdown",
      "metadata": {
        "id": "yJab0oFKhW1_"
      },
      "source": [
        "***Secuencia de procesos***\n",
        "\n",
        "Tambien conocido como *Waiting for a Process*, se pueden utilizar cuando tenemos eventos seguidos uno tras de otro, en secuencia. Un  ejemplo de esto es el anteriormente hecho. ya que el proceso de aparcado comienza hasta que el proceso de conducción termine y viceversa."
      ]
    },
    {
      "cell_type": "markdown",
      "metadata": {
        "id": "yBFSpDRShW1_"
      },
      "source": [
        "***Interrupción de procesos***\n",
        "\n",
        "Sucede cuando un evento tiene que ocurrir en un circunstancia concreta, como al alcanzar momento en específico durante la secuencia de procesos. Al llegar ese momento, los demás procesos se dentendrán dando paso al evento en cuestión.\n",
        "Para poder ilustrar esto se presenta a continuación un ejemplo.\n",
        "\n",
        "Juan trabaja en un despacho jurídico 8 horas al día 5 días a la semana, su entrada es a las 8 am diariamente. Juan pidió permiso de salir antes porque el martes tiene que ir a la junta de la escuela de su hija a las 12 pm (medio día), por lo que no va a regresar a trabajar sinó hasta el día siguiente. La junta de la escuela durará 2 horas.\n",
        "\n",
        "Vamos a simular la semana de Juan, de Lunes a Viernes."
      ]
    },
    {
      "cell_type": "code",
      "execution_count": null,
      "metadata": {
        "id": "VxQpYNInhW1_"
      },
      "outputs": [],
      "source": [
        "class Juan(object):\n",
        "    def __init__(self, env):\n",
        "        self.env = env\n",
        "        self.accion = env.process(self.rutina())\n",
        "\n",
        "    def rutina(self): #como lo dice el nombre del método, se describe a continuación la rutina de Juan a la semana\n",
        "        semana = {0:'Lunes', 1:'Martes', 2:'Miercoles', 3:'Jueves', 4:'Viernes'}\n",
        "        while True:\n",
        "            dia = self.env.now//24 #Calculamos en que día estamos a partír del tiempo transcurrido en el entorno\n",
        "            print(f'Día {semana[dia]}')\n",
        "            #Antes del trabajo\n",
        "\n",
        "            hora = self.env.now%24\n",
        "            print(f'A las {hora} horas Juan esta en su casa')\n",
        "            yield self.env.timeout(8) #Hacemos que transcurran las primeras 8 horas en las qeu juan estará en su casa\n",
        "\n",
        "            #Llega al trabajo\n",
        "            hora = self.env.now%24\n",
        "            print(f'A las {hora} horas Juan esta en su trabajo')\n",
        "\n",
        "            # A continuación, está una de las partes claves para el manejo de las interrupciones\n",
        "            try:\n",
        "                #Trabaja sus 8 horas\n",
        "                yield self.env.process(self.trabajar(8))\n",
        "            except simpy.Interrupt: #Si hay una interrupción:\n",
        "                #Se tiene que ir a la junta de su hija\n",
        "                dia = self.env.now//24\n",
        "                hora = self.env.now%24\n",
        "                print(f'A las {hora} horas Juan va a la junta de su hija')\n",
        "                yield self.env.timeout(2) #Pasan las 2 horas de la junta\n",
        "\n",
        "            #Llega a la casa\n",
        "            hora = self.env.now%24\n",
        "            print(f'A las {hora} horas Juan esta en su casa\\n')\n",
        "            yield self.env.timeout(24-hora) #termina el día\n",
        "\n",
        "\n",
        "    def trabajar(self, duracion):\n",
        "            yield self.env.timeout(duracion)"
      ]
    },
    {
      "cell_type": "markdown",
      "source": [
        "Además, debemos de describir el evento que hará la interrupción de procesos, en este caso la junta. Para ello usaremos la siguiente función que describe cuando se realizará (linea 2) e indica que en ese momento se debe llevar a cabo la interrupción de los demás procesos."
      ],
      "metadata": {
        "id": "S7QdYu6mmCTq"
      }
    },
    {
      "cell_type": "code",
      "execution_count": null,
      "metadata": {
        "id": "OvV4cDgfhW2A"
      },
      "outputs": [],
      "source": [
        "def junta(env, persona):\n",
        "    yield env.timeout(24+12)\n",
        "    persona.accion.interrupt()"
      ]
    },
    {
      "cell_type": "markdown",
      "source": [
        "Y finalmente, hacemos Júan tenga su semana de trabajo. Sin embargo, para aplicar las excepciones usaremos la variable *persona* para darle como entrada a la función *junta* nuestro objeto *Juan*."
      ],
      "metadata": {
        "id": "zizlg3gVs2i8"
      }
    },
    {
      "cell_type": "code",
      "execution_count": null,
      "metadata": {
        "id": "DNWPNTFQhW2A",
        "outputId": "cf204269-02d8-44c1-a0ed-7c5d2865de5b"
      },
      "outputs": [
        {
          "name": "stdout",
          "output_type": "stream",
          "text": [
            "Día Lunes\n",
            "A las 0 horas Juan esta en su casa\n",
            "A las 8 horas Juan esta en su trabajo\n",
            "A las 16 horas Juan esta en su casa\n",
            "\n",
            "Día Martes\n",
            "A las 0 horas Juan esta en su casa\n",
            "A las 8 horas Juan esta en su trabajo\n",
            "A las 12 horas Juan va a la junta de su hija\n",
            "A las 14 horas Juan esta en su casa\n",
            "\n",
            "Día Miercoles\n",
            "A las 0 horas Juan esta en su casa\n",
            "A las 8 horas Juan esta en su trabajo\n",
            "A las 16 horas Juan esta en su casa\n",
            "\n",
            "Día Jueves\n",
            "A las 0 horas Juan esta en su casa\n",
            "A las 8 horas Juan esta en su trabajo\n",
            "A las 16 horas Juan esta en su casa\n",
            "\n",
            "Día Viernes\n",
            "A las 0 horas Juan esta en su casa\n",
            "A las 8 horas Juan esta en su trabajo\n",
            "A las 16 horas Juan esta en su casa\n",
            "\n"
          ]
        }
      ],
      "source": [
        "env = simpy.Environment()\n",
        "persona = Juan(env)\n",
        "env.process(junta(env,persona))\n",
        "env.run(until=120)"
      ]
    },
    {
      "cell_type": "markdown",
      "metadata": {
        "id": "V_5qoNgjhW2A"
      },
      "source": [
        "***Recursos compartidos***\n",
        "\n",
        "Simpy tine el tipo *resources* (recurso) para cuando multiples procesos requieren de un mismo recurso, es decir, que varias acciones necesitan hacer uso de algo (el recurso) y no pueden acceder a él a la vez. Esto lo podemos ver cuando hay dos procesos y uno no puede empezar hasta que el otro termine, como por ejemplo los modelos de servidores con disciplina FIFO (PEPS en español).\n",
        "\n",
        "Para ello usaremos de ejemplo una gasolinera de una sola bomba. Cuando lleguen dos carros consecutivos será necesario que el segundo espere hasta que el primero sea atendido y se marche de la bomba. En este caso, el recurso será la bomba de gasolina.\n",
        "\n",
        "Cuando se produzca el evento de la llegada de un carro a la gasolinería, este hará la *solicitud* para cargar gasolina. Si la bomba ya está en uso, esperará hasta que esta se desocupe, en ese momento comenzará la carga de su gasolina.\n",
        "\n",
        "El método *request()* genera un evento que permite esperar hasta que el recurso este disponible. Para nuestro ejemplo, es lo que indica que el segundo carro se mantenga en espera hasta que primero termine de cargar gasolina.\n",
        "\n",
        "Y hay dos maneras de generar un request o solicitud: con *with* o con *release()*. El primero hace que el carro ocupe el lugar de manera automática cuando se desocupa la bomba. Mientras que el segundo sería esperar hasta que de la señal para ocupar la bomba, es decir, de manera manual. Para nuestro ejemplo nos combiene usar *with*."
      ]
    },
    {
      "cell_type": "markdown",
      "source": [
        "Para hacer más jugoso nuestro ejemplo, generaremos el tiempo iner-llegadas de los autos y el tiempo de servicio en la bomba con un par de exponenciales."
      ],
      "metadata": {
        "id": "aefr5QaluUKO"
      }
    },
    {
      "cell_type": "code",
      "execution_count": null,
      "metadata": {
        "id": "-wIZLrbphW2A"
      },
      "outputs": [],
      "source": [
        "import simpy\n",
        "from random import random as rd\n",
        "from math import log"
      ]
    },
    {
      "cell_type": "code",
      "execution_count": null,
      "metadata": {
        "id": "iTYNWPIDhW2B"
      },
      "outputs": [],
      "source": [
        "def gasolinera(env, bomba, num, ll, ls):\n",
        "    for i in range(num): #El for es para delimitar en cuanto al número de carros que se van a atender\n",
        "        llegada = -log(rd())/ll #Se calcula el tiempo de llegada del carro\n",
        "        yield env.timeout(llegada)\n",
        "        print(f'---> Ha llegado el carro {i} en el minuto {round(env.now, 2)}')\n",
        "        env.process(carro(env, bomba, i, ls))"
      ]
    },
    {
      "cell_type": "code",
      "execution_count": null,
      "metadata": {
        "id": "OizVjbqVhW2B"
      },
      "outputs": [],
      "source": [
        "def carro(env, bomba, num, ls): #esta funcion modela el servicio del carro, es decir, la carga\n",
        "    #Solicitud de carga de gasolina\n",
        "    with bomba.request() as req:\n",
        "        yield req\n",
        "\n",
        "        #Se carga gasolina\n",
        "        print(f'El carro {num} se comienza a cargar en el minuto {round(env.now, 2)}')\n",
        "        carga = -log(rd())/ls #Se calcula el tiempo de carga (servicio)\n",
        "        yield env.timeout(carga)\n",
        "        print(f'El carro {num} termina de cargar en el minuto {round(env.now, 2)}   --->')"
      ]
    },
    {
      "cell_type": "markdown",
      "source": [
        "Como se pudo apreciar, en este caso dividimos el problema en dos partes:\n",
        "* la función *gasolinera*\n",
        "* la función *carro*\n",
        "Y esto es para tratar las dos funciones como entes separados que se interrelacionan. Pero ¿Cómo es esto?\n",
        "\n",
        "De inicio, en la función *gasolinera* se efectuan las llegadas de los carros y se atienden. Esta atención se verá descrita en la función *carro*, en la cual al llegar el vehículo hará la solicitud de cargar gasolina. En caso de que alguna bomba esté disponible se acercará a esta y comenzará su carga de gasolina, de lo contrario esperará hasta que alguna bomba esté disponible para proporcionarle el servicio solicitado.\n"
      ],
      "metadata": {
        "id": "vi6JZ7pqu5cP"
      }
    },
    {
      "cell_type": "markdown",
      "source": [
        "Generamos el entorno."
      ],
      "metadata": {
        "id": "4wzr84M0zB4V"
      }
    },
    {
      "cell_type": "code",
      "execution_count": null,
      "metadata": {
        "id": "croWi-2YhW2B"
      },
      "outputs": [],
      "source": [
        "entorno = simpy.Environment()"
      ]
    },
    {
      "cell_type": "markdown",
      "source": [
        "Generamos el el recurso, la(s) bomba(s) de gasolina, usando entorno y le asignamos un valor que representa la capacidad del recurso o la cantidad de recursos que pueden atencer a los \"clientes\"."
      ],
      "metadata": {
        "id": "WTZyuq4vzFTU"
      }
    },
    {
      "cell_type": "code",
      "execution_count": null,
      "metadata": {
        "id": "tJNj-iKBhW2B"
      },
      "outputs": [],
      "source": [
        "bomba = simpy.Resource(entorno, capacity=1)"
      ]
    },
    {
      "cell_type": "markdown",
      "source": [
        "Instanciamos, procesamos nuestra función de gasolinera con el entorno, el recurso, la cantidad de autos que se atenderán y los parámetros de llegada y de servicio respectivamente."
      ],
      "metadata": {
        "id": "QZ5glkbozsiT"
      }
    },
    {
      "cell_type": "code",
      "execution_count": null,
      "metadata": {
        "id": "-_SWeYhJhW2B",
        "outputId": "1620313e-0ff3-49ee-d872-52e5920c8b0f"
      },
      "outputs": [
        {
          "data": {
            "text/plain": [
              "<Process(gasolinera) object at 0x1d7f65fd090>"
            ]
          },
          "execution_count": 12,
          "metadata": {},
          "output_type": "execute_result"
        }
      ],
      "source": [
        "entorno.process(gasolinera(entorno, bomba, 7, 1/2, 1/3))"
      ]
    },
    {
      "cell_type": "markdown",
      "source": [
        "Y finalmente lo ejecutamos."
      ],
      "metadata": {
        "id": "-XNyGmOv0Fcz"
      }
    },
    {
      "cell_type": "code",
      "execution_count": null,
      "metadata": {
        "id": "1TGd_Wd3hW2C",
        "outputId": "38a48d6e-7759-43de-a84b-580b7de8b4a4"
      },
      "outputs": [
        {
          "name": "stdout",
          "output_type": "stream",
          "text": [
            "---> Ha llegado el carro 0 en el minuto 0.33\n",
            "El carro 0 se comienza a cargar en el minuto 0.33\n",
            "El carro 0 termina de cargar en el minuto 1.57   --->\n",
            "---> Ha llegado el carro 1 en el minuto 4.28\n",
            "El carro 1 se comienza a cargar en el minuto 4.28\n",
            "El carro 1 termina de cargar en el minuto 6.25   --->\n",
            "---> Ha llegado el carro 2 en el minuto 6.7\n",
            "El carro 2 se comienza a cargar en el minuto 6.7\n",
            "---> Ha llegado el carro 3 en el minuto 6.81\n",
            "---> Ha llegado el carro 4 en el minuto 6.91\n",
            "---> Ha llegado el carro 5 en el minuto 7.67\n",
            "El carro 2 termina de cargar en el minuto 8.65   --->\n",
            "El carro 3 se comienza a cargar en el minuto 8.65\n",
            "---> Ha llegado el carro 6 en el minuto 9.9\n",
            "El carro 3 termina de cargar en el minuto 10.9   --->\n",
            "El carro 4 se comienza a cargar en el minuto 10.9\n",
            "El carro 4 termina de cargar en el minuto 10.91   --->\n",
            "El carro 5 se comienza a cargar en el minuto 10.91\n",
            "El carro 5 termina de cargar en el minuto 11.25   --->\n",
            "El carro 6 se comienza a cargar en el minuto 11.25\n",
            "El carro 6 termina de cargar en el minuto 13.24   --->\n"
          ]
        }
      ],
      "source": [
        "entorno.run()"
      ]
    },
    {
      "cell_type": "markdown",
      "source": [
        "Ahora, se les deja de tarea entender ¿Por qué no le damos un tiempo con método *run*? y ¿Cómo hacemos que esto sea posible?."
      ],
      "metadata": {
        "id": "py0ZQ7Zl0J2K"
      }
    },
    {
      "cell_type": "markdown",
      "source": [
        "Finalmente, invitamos a los lectores del curso de Simulación 2 del profesor Medetl para que modifiquen los parámetros de entrada de la función gasolinera, así como la \"capacidad\" de la bomba."
      ],
      "metadata": {
        "id": "bCag7gUe0f9r"
      }
    },
    {
      "cell_type": "code",
      "source": [
        "entorno = simpy.Environment()\n",
        "bomba = simpy.Resource(entorno, capacity=1)\n",
        "entorno.process(gasolinera(entorno, bomba, 7, 1/2, 1/3))\n",
        "entorno.run()"
      ],
      "metadata": {
        "id": "tf-5j15c0yup"
      },
      "execution_count": null,
      "outputs": []
    }
  ],
  "metadata": {
    "kernelspec": {
      "display_name": "Python 3",
      "language": "python",
      "name": "python3"
    },
    "language_info": {
      "codemirror_mode": {
        "name": "ipython",
        "version": 3
      },
      "file_extension": ".py",
      "mimetype": "text/x-python",
      "name": "python",
      "nbconvert_exporter": "python",
      "pygments_lexer": "ipython3",
      "version": "3.11.3"
    },
    "colab": {
      "provenance": [],
      "include_colab_link": true
    }
  },
  "nbformat": 4,
  "nbformat_minor": 0
}