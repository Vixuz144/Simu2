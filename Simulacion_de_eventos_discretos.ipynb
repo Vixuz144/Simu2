{
  "cells": [
    {
      "cell_type": "markdown",
      "metadata": {
        "id": "view-in-github",
        "colab_type": "text"
      },
      "source": [
        "<a href=\"https://colab.research.google.com/github/Vixuz144/Simu2/blob/main/Simulacion_de_eventos_discretos.ipynb\" target=\"_parent\"><img src=\"https://colab.research.google.com/assets/colab-badge.svg\" alt=\"Open In Colab\"/></a>"
      ]
    },
    {
      "cell_type": "markdown",
      "metadata": {
        "id": "h4R3mqLO6x6S"
      },
      "source": [
        "**Simulación de eventos discretos en Python usando la libreria Simpy.**"
      ]
    },
    {
      "cell_type": "markdown",
      "metadata": {
        "id": "iRrTKDO36x6X"
      },
      "source": [
        "El objetivo de este notebook es presentar la librería de python *Simpy*, la cual esta hecha para la simulación de eventos discretos. Esta libreria tiene varios elementos que nos permiten facilitar la implementación y solución de algunos problemas que se verán a lo largo del curso (simulación de llegadas y servicio). Para ello se usará de base el siguiente ejemplo."
      ]
    },
    {
      "cell_type": "markdown",
      "metadata": {
        "id": "GLop9Q_86x6Z"
      },
      "source": [
        "*Ejemplo: Una peluquería tiene un peluquero que se demora entre 15 y 30 minutos por corte. La peluquería recibe en promedio 3 clientes por hora (es decir, uno cada 20 minutos). Se desea simular las llegadas y servicios de 5 clientes.*"
      ]
    },
    {
      "cell_type": "markdown",
      "metadata": {
        "id": "6gP-xxGO6x6a"
      },
      "source": [
        "\n",
        "Una ventaja de esta librería es que es posible variar cualquiera de los parámetros, como en este ejemplo la cantidad de peluqueros, los tiempos de servicio y llegada, el número de clientes, etc.\n",
        "\n",
        "Antes de realizar la simulación en Python usando *Simpy*, se realizarán los cálculos \"manuales\" de acuerdo a las técnicas de Simulación. Esto permitirá tener un modelo matemático que nos confirme los resultados de nuestra simulación."
      ]
    },
    {
      "cell_type": "markdown",
      "metadata": {
        "id": "1X8WBzQY6x6b"
      },
      "source": [
        "***Simulación de eventos discretos***"
      ]
    },
    {
      "cell_type": "markdown",
      "metadata": {
        "id": "e2CbSLno6x6c"
      },
      "source": [
        "El tiempo entre llegadas de los clientes a la peluquería es exponencial con media de 20 minutos.\n",
        "\n",
        "De modo que las llegadas son calculadas de acuerdo a la siguiente formula:\n",
        "\n",
        "$$T_{LLEGADAS} = - \\lambda Ln(U)$$\n",
        "\n",
        "Donde:\n",
        "\n",
        "$\\lambda$ es el promedio de llegadas, en nuestro ejemplo es de 20 minutos\n",
        "\n",
        "$Ln$ es la operación de Logaritmo Natural\n",
        "\n",
        "$U$ es un número pseudoaleatorio con distribución uniforme en $[0,1]$"
      ]
    },
    {
      "cell_type": "markdown",
      "metadata": {
        "id": "7dENCQAn6x6d"
      },
      "source": [
        "La peluquería es atendida por un solo peluquero y se lleva entre 15 y 30 minutos, distribuidos de una manera uniforme, para realizar un corte de pelo.\n",
        "\n",
        "Los clientes son atendidos con base en la disciplina FIFO (primero en llegar, primero en salir).\n",
        "\n",
        "Los tiempos de servicio son calculados de acuerdo a la siguiente formula:\n",
        "\n",
        "$$tiempo_{corte} = TIEMPO \\ CORTE \\ MIN + (TIEMPO \\ CORTE \\ MAX-TIEMPO \\ CORTE \\ MIN) U$$\n",
        "\n",
        "Que al sustituir los tiempos de corte del ejemplo resulta:\n",
        "\n",
        "$$tiempo_{corte} = 15 + (30-15) U = 15 + 15U$$"
      ]
    },
    {
      "cell_type": "markdown",
      "metadata": {
        "id": "R-K3UUgQ6x6d"
      },
      "source": [
        "Para iniciar llamaremos todas las librerias de python que se utilizaran."
      ]
    },
    {
      "cell_type": "code",
      "source": [
        "!pip install simpy"
      ],
      "metadata": {
        "colab": {
          "base_uri": "https://localhost:8080/"
        },
        "id": "aR4GjXIe-HEs",
        "outputId": "b0e229c7-f3f6-48f7-e93e-d59f5fb929e3"
      },
      "execution_count": 1,
      "outputs": [
        {
          "output_type": "stream",
          "name": "stdout",
          "text": [
            "Collecting simpy\n",
            "  Downloading simpy-4.1.1-py3-none-any.whl.metadata (6.1 kB)\n",
            "Downloading simpy-4.1.1-py3-none-any.whl (27 kB)\n",
            "Installing collected packages: simpy\n",
            "Successfully installed simpy-4.1.1\n"
          ]
        }
      ]
    },
    {
      "cell_type": "code",
      "execution_count": 2,
      "metadata": {
        "id": "14qlIvzM6x6e"
      },
      "outputs": [],
      "source": [
        "import matplotlib.pyplot as plt\n",
        "import numpy as np\n",
        "from random import random, seed\n",
        "import pandas as pd\n",
        "import simpy"
      ]
    },
    {
      "cell_type": "markdown",
      "metadata": {
        "id": "Ak-ztntz6x6h"
      },
      "source": [
        "A continuacion se presentan dos funciones que generan números aleatorios a partir del método de la función inversa.\n",
        "\n",
        "La primera genera numeros aleatorios que siguen una distribución exponencial con parámetro $l$. En esta implementación la principal libreria utilizada es numpy para poder generar arrays de números aleatorios de n elementos."
      ]
    },
    {
      "cell_type": "code",
      "execution_count": 3,
      "metadata": {
        "id": "DAZAQtAh6x6i"
      },
      "outputs": [],
      "source": [
        "def gen_exp(l, n = 10**4):\n",
        "    r = np.random.random(n)\n",
        "    return -np.log(r)/l"
      ]
    },
    {
      "cell_type": "markdown",
      "metadata": {
        "id": "lV-BnJ0-6x6j"
      },
      "source": [
        "La segunda funcion genera números aleatorios uniformemente distribuidos entre $a$ y $b$. En esta ocasion se usará unicamente la libreria random y por medio de ciclos (for) se genera una lista de n números aleatorios."
      ]
    },
    {
      "cell_type": "code",
      "execution_count": 4,
      "metadata": {
        "id": "G6RYBE8E6x6j"
      },
      "outputs": [],
      "source": [
        "def gen_unif(a, b, n = 10**4):\n",
        "    l = []\n",
        "    for i in range(n):\n",
        "        r = random()\n",
        "        l.append(a + (b-a)*r)\n",
        "    return l"
      ]
    },
    {
      "cell_type": "markdown",
      "metadata": {
        "id": "X04dWw5u6x6k"
      },
      "source": [
        "Para ilustrar el funcionamiento de estas funciones, a continuación se generan 1000 números aleatorios con cada función y se grafica su función de distribución."
      ]
    },
    {
      "cell_type": "code",
      "execution_count": 5,
      "metadata": {
        "colab": {
          "base_uri": "https://localhost:8080/",
          "height": 890
        },
        "id": "mcoI6OWW6x6l",
        "outputId": "895c530d-0074-4a9a-db2e-326dac7d44ba"
      },
      "outputs": [
        {
          "output_type": "display_data",
          "data": {
            "text/plain": [
              "<Figure size 640x480 with 1 Axes>"
            ],
            "image/png": "[encoded data removed]"
          },
          "metadata": {}
        },
        {
          "output_type": "display_data",
          "data": {
            "text/plain": [
              "<Figure size 640x480 with 1 Axes>"
            ],
            "image/png": "[encoded data removed]"
          },
          "metadata": {}
        }
      ],
      "source": [
        "n = 10**3\n",
        "e = gen_exp(1/20, n)\n",
        "u = gen_unif(15, 30, n)\n",
        "\n",
        "plt.style.use('grayscale')\n",
        "# plt.hist(e, bins = 20)\n",
        "# plt.show()\n",
        "plt.plot(np.sort(e), np.linspace(0,1,n))\n",
        "plt.title(\"Distribución exponencial con $\\lambda = 20$ (l = $1/20$)\")\n",
        "plt.show()\n",
        "\n",
        "# plt.hist(u)\n",
        "# plt.show()\n",
        "plt.plot(np.sort(u), np.linspace(0,1,n))\n",
        "plt.title(\"Distribución uniforme en [0,1]\")\n",
        "plt.show()"
      ]
    },
    {
      "cell_type": "markdown",
      "metadata": {
        "id": "bekS59yc6x6n"
      },
      "source": [
        "Ahora, utilizando las funciones anteriores, se calcularán 5 números aleatorios para los calculos \"manuales\"."
      ]
    },
    {
      "cell_type": "code",
      "execution_count": 6,
      "metadata": {
        "colab": {
          "base_uri": "https://localhost:8080/"
        },
        "id": "Y0A8MQZ76x6n",
        "outputId": "e046c412-1ed8-40c5-c987-75d4ac44238b"
      },
      "outputs": [
        {
          "output_type": "stream",
          "name": "stdout",
          "text": [
            "Números aleatorios con distro exponencial\n",
            "[30.35  8.35  7.26 17.95  1.44]\n"
          ]
        }
      ],
      "source": [
        "nc = 5 #Número de cortes que se realizarán\n",
        "e = gen_exp(1/20, nc)\n",
        "print(\"Números aleatorios con distro exponencial\")\n",
        "print(np.round(e, 2))"
      ]
    },
    {
      "cell_type": "markdown",
      "metadata": {
        "id": "6SpSWnzh6x6o"
      },
      "source": [
        "Sin embargo, estos números aleatorios representan el tiempo entre llegadas, en otras palabras, para saber en que momento llegan se tienen que ir sumando a los tiempos anteriores, esto es:"
      ]
    },
    {
      "cell_type": "code",
      "execution_count": 7,
      "metadata": {
        "colab": {
          "base_uri": "https://localhost:8080/"
        },
        "id": "E55kLfyG6x6o",
        "outputId": "4b919d1e-e638-44c7-caaf-27345ddf291d"
      },
      "outputs": [
        {
          "output_type": "stream",
          "name": "stdout",
          "text": [
            "[30.35 38.7  45.96 63.91 65.35]\n"
          ]
        }
      ],
      "source": [
        "tll = 0\n",
        "TLL = []\n",
        "for i in e:\n",
        "    tll += i\n",
        "    TLL.append(tll)\n",
        "print(np.round(TLL,2))"
      ]
    },
    {
      "cell_type": "code",
      "execution_count": 8,
      "metadata": {
        "colab": {
          "base_uri": "https://localhost:8080/"
        },
        "id": "k1n91obf6x6p",
        "outputId": "ae6cbb50-86a0-4534-d48e-afc5f759ad79"
      },
      "outputs": [
        {
          "output_type": "stream",
          "name": "stdout",
          "text": [
            "Números aleatorios con distro uniforme\n",
            "[18.84 20.08 27.2  26.25 16.83]\n"
          ]
        }
      ],
      "source": [
        "u = gen_unif(15, 30, nc)\n",
        "print('Números aleatorios con distro uniforme')\n",
        "print(np.round(u, 2))"
      ]
    },
    {
      "cell_type": "markdown",
      "metadata": {
        "id": "I5iNyk9G6x6p"
      },
      "source": [
        "A continuación se presenta una tabla con los datos anteriores. A esto hay que adicionar en que momento sale cada uno de los clientes. Para lo cual consideramos que al llegar un cliente, el peluquero puede estar ocupado con otro cliente, por lo que tendrá que esperar hasta que salga este cliente."
      ]
    },
    {
      "cell_type": "code",
      "execution_count": 9,
      "metadata": {
        "colab": {
          "base_uri": "https://localhost:8080/"
        },
        "id": "bMtVVwRx6x6p",
        "outputId": "2b50ad76-4653-4252-f97a-d602224bd56e"
      },
      "outputs": [
        {
          "output_type": "stream",
          "name": "stdout",
          "text": [
            "Tiempos de salida\n",
            " [49.18559862700536, 69.26305140557616, 96.46167545913761, 122.70868459995742, 139.539955618142]\n"
          ]
        }
      ],
      "source": [
        "clientes = list(range(1,6))\n",
        "s = [TLL[0] + u[0]]\n",
        "ic = [TLL[0]]\n",
        "for i in range(1, nc):\n",
        "    if TLL[i] > s[i-1]: #Llegada cuando no hay gente\n",
        "        s.append(TLL[i] + u[i])\n",
        "    else: #LLegada cuando todavia hay gente\n",
        "        s.append(s[i-1] + u[i])\n",
        "    ic.append(max(s[i-1], TLL[i]))\n",
        "print('Tiempos de salida\\n',s)"
      ]
    },
    {
      "cell_type": "markdown",
      "metadata": {
        "id": "kTenXRPx6x6q"
      },
      "source": [
        "Ahora, para hacer operaciones vectoriales con los *arrays* se van a convertir las listas en *array* de la librería *Numpy*."
      ]
    },
    {
      "cell_type": "code",
      "execution_count": 10,
      "metadata": {
        "id": "rtrCQtj66x6q"
      },
      "outputs": [],
      "source": [
        "u = np.array(u) #Tiempo de corte\n",
        "s = np.array(s) #Tiempo de salida\n",
        "ic  =np.array(ic) #Tiempo en que inicia el corte"
      ]
    },
    {
      "cell_type": "markdown",
      "metadata": {
        "id": "OJ5ZBDR36x6r"
      },
      "source": [
        "Además, calculamos el tiempo que espera cada cliente y el tiempo en el que permanece en la peluquería."
      ]
    },
    {
      "cell_type": "code",
      "execution_count": 11,
      "metadata": {
        "id": "8fgyHxIO6x6r"
      },
      "outputs": [],
      "source": [
        "te = s-(TLL + u) #tiempo de espera\n",
        "tp = s-TLL #tiempo en peluquería\n",
        "# tp = u + te #Esta es una forma alternativa"
      ]
    },
    {
      "cell_type": "markdown",
      "metadata": {
        "id": "tJyxQBbK6x6r"
      },
      "source": [
        "Todo lo anterior se recopila en la siguiente tabla. Para ello se usará un *DataFrame* de la librería *Pandas*"
      ]
    },
    {
      "cell_type": "code",
      "execution_count": 12,
      "metadata": {
        "colab": {
          "base_uri": "https://localhost:8080/"
        },
        "id": "MIY5kfUY6x6s",
        "outputId": "9fb86327-483b-4109-c009-fce5e6e4f14d"
      },
      "outputs": [
        {
          "output_type": "stream",
          "name": "stdout",
          "text": [
            "           Tiempo de llegada  Tiempo de corte  Inicio del corte  Salida  \\\n",
            "Cliente 1              30.35            18.84             30.35   49.19   \n",
            "Cliente 2              38.70            20.08             49.19   69.26   \n",
            "Cliente 3              45.96            27.20             69.26   96.46   \n",
            "Cliente 4              63.91            26.25             96.46  122.71   \n",
            "Cliente 5              65.35            16.83            122.71  139.54   \n",
            "\n",
            "           Tiempo de espera  Tiempo en peluquería  \n",
            "Cliente 1              0.00                 18.84  \n",
            "Cliente 2             10.49                 30.57  \n",
            "Cliente 3             23.31                 50.51  \n",
            "Cliente 4             32.56                 58.80  \n",
            "Cliente 5             57.36                 74.19  \n"
          ]
        }
      ],
      "source": [
        "columna = ['Tiempo de llegada', 'Tiempo de corte', 'Inicio del corte', 'Salida', 'Tiempo de espera', 'Tiempo en peluquería']\n",
        "fila = []\n",
        "for i in range(nc):\n",
        "    fila.append(f'Cliente {i+1}')\n",
        "# datos = np.transpose([TLL, u, ic, s, te, s-TLL])\n",
        "datos = np.transpose([TLL, u, ic, s, te, u + te])\n",
        "\n",
        "Tabla = pd.DataFrame(np.round(datos, 2), columns=columna, index=fila)\n",
        "print(Tabla)"
      ]
    },
    {
      "cell_type": "markdown",
      "metadata": {
        "id": "RLe9PBFT6x6s"
      },
      "source": [
        "Con esta información podemos calcular algunos estadísticos que nos permitan entender mejor el sistema de cola o fila."
      ]
    },
    {
      "cell_type": "code",
      "execution_count": 13,
      "metadata": {
        "colab": {
          "base_uri": "https://localhost:8080/"
        },
        "id": "wr1Hf7Gb6x6s",
        "outputId": "df65662e-392f-4f30-9399-fca64c3c9231"
      },
      "outputs": [
        {
          "output_type": "stream",
          "name": "stdout",
          "text": [
            "Longitud promedio de la cola (fila): 0.89 personas en cola\n",
            "Tiempo de espera promedio: 24.74 minutos\n",
            "Uso promedio de la instalación: 78.25%\n"
          ]
        }
      ],
      "source": [
        "long_prom_cola = sum(te)/s[-1]\n",
        "t_prom_espera = sum(te)/nc\n",
        "uso_prom = sum(u)/s[-1]\n",
        "\n",
        "print(f'Longitud promedio de la cola (fila): {round(long_prom_cola, 2)} personas en cola')\n",
        "print(f'Tiempo de espera promedio: {round(t_prom_espera,2)} minutos')\n",
        "print(f'Uso promedio de la instalación: {round(100 * uso_prom,2)}%')"
      ]
    },
    {
      "cell_type": "markdown",
      "metadata": {
        "id": "RuIvZwC66x6t"
      },
      "source": [
        "***Simulación en Python usando Simpy***"
      ]
    },
    {
      "cell_type": "markdown",
      "metadata": {
        "id": "IzGz9Ozz6x6t"
      },
      "source": [
        "Primero se hacen las dos funciones que simulen la peluquería y el corte de un cliente. Para ello necesitan tener ambas como entrada la variable del entorno (*env*), así como la varieble del recurso (*pelucas*)."
      ]
    },
    {
      "cell_type": "code",
      "execution_count": 14,
      "metadata": {
        "id": "e492pHDv6x6t"
      },
      "outputs": [],
      "source": [
        "def peluqueria(env, pelucas, nc, texto=True):\n",
        "    global  ll, cifras, dur_corte, t_esp, fin_sim, LTLL, LC, LS\n",
        "\n",
        "    for i in range(nc):\n",
        "        #Llegada del cliente\n",
        "        r = random()\n",
        "        tll = -np.log(r)/ll\n",
        "        yield env.timeout(tll)\n",
        "        LTLL.append(env.now)\n",
        "        if texto:\n",
        "          print(f'----Ha llegado el cliente número {i} en el minuto {round(env.now, cifras)}----')\n",
        "\n",
        "        env.process(corte(env, pelucas, i, texto))"
      ]
    },
    {
      "cell_type": "markdown",
      "metadata": {
        "id": "W2z1QOBO6x6u"
      },
      "source": [
        "Note que en la función corte se utiliza la variable de recurso (*pelucas*) para hacer una solicitud a este recurso. Esto se puede interpretar para nuestro ejemplo que el cliente pide su corte y el peluquero puede hacer dos cosas al respecto:\n",
        "\n",
        "$\\qquad*$ hacer el corte\n",
        "\n",
        "$\\qquad*$ si esta ocupado con otro cliente, decirle que espere a que termine con el corte actual.\n",
        "\n",
        "La clave aquí es si esta ocupado o no el peluquero. Y esto es justamente lo que hacen ese par de lineas de código (*with pelucas.request() as sol:* & *yield sol*). Comprueba si esta o no ocupado el servidor."
      ]
    },
    {
      "cell_type": "code",
      "execution_count": 15,
      "metadata": {
        "id": "wYzVNn2D6x6v"
      },
      "outputs": [],
      "source": [
        "def corte(env, pelucas, num, texto=True):\n",
        "    global tc_min, tc_max, cifras, dur_corte, LC, LS\n",
        "    a, b = tc_min, tc_max\n",
        "    #Solicitud del corte\n",
        "    with pelucas.request() as sol:\n",
        "        yield sol\n",
        "\n",
        "        #Inicia el corte\n",
        "\n",
        "        #Se genera el tiempo de corte\n",
        "        r = random()\n",
        "        tc = a + (b-a)*r\n",
        "        dur_corte += tc\n",
        "        LC.append(tc)\n",
        "        if texto:\n",
        "          print(f'****Inicia el corte del cliente {num} en el minuto {round(env.now, cifras)}****')\n",
        "        #Se suma el tiempo a la line ade tiempo actual\n",
        "        yield env.timeout(tc)\n",
        "\n",
        "        #Muestra un mensaje al término del corte\n",
        "        LS.append(env.now)\n",
        "        if texto:\n",
        "          print(f'xxxTermina el corte del cliente {num} en el minuto {round(env.now, cifras)}xxx')\n",
        "        return tc\n"
      ]
    },
    {
      "cell_type": "markdown",
      "metadata": {
        "id": "MsPRnkur6x6w"
      },
      "source": [
        "Variables que nos servirán para modificar los diversos parámetros del problema en cuestion."
      ]
    },
    {
      "cell_type": "code",
      "execution_count": 16,
      "metadata": {
        "id": "aaLk_Jv_6x6w"
      },
      "outputs": [],
      "source": [
        "global tc_min, tc_max, ll, no_peluqueros, cifras\n",
        "semilla = 13\n",
        "seed(semilla)\n",
        "\n",
        "no_peluqueros = 1\n",
        "tc_min = 15\n",
        "tc_max = 30\n",
        "ll = 1/20\n",
        "clientes = 5\n",
        "cifras = 2"
      ]
    },
    {
      "cell_type": "markdown",
      "metadata": {
        "id": "xOW-vdRY6x6x"
      },
      "source": [
        "Luego las variables que nos ayudarán a recopilar la información de la limulación"
      ]
    },
    {
      "cell_type": "code",
      "execution_count": 17,
      "metadata": {
        "id": "7vnMUqaW6x6x"
      },
      "outputs": [],
      "source": [
        "global t_esp, dur_corte, fin_sim, LTLL, LC, LS\n",
        "t_esp = 0\n",
        "dur_corte = 0\n",
        "fin_sim = 0\n",
        "\n",
        "LTLL, LC, LS = [], [], []"
      ]
    },
    {
      "cell_type": "markdown",
      "metadata": {
        "id": "-tdCOtIp6x6y"
      },
      "source": [
        "Creamos las variables de entorno y recursos."
      ]
    },
    {
      "cell_type": "code",
      "execution_count": 18,
      "metadata": {
        "id": "UZmCN_Bc6x6z"
      },
      "outputs": [],
      "source": [
        "ent = simpy.Environment()\n",
        "pelucas = simpy.Resource(ent, capacity=no_peluqueros)"
      ]
    },
    {
      "cell_type": "markdown",
      "metadata": {
        "id": "W0KWZyin6x6z"
      },
      "source": [
        "Creamos la simulación a travéz del comando process."
      ]
    },
    {
      "cell_type": "code",
      "execution_count": 19,
      "metadata": {
        "colab": {
          "base_uri": "https://localhost:8080/"
        },
        "id": "6WPbPB4v6x6z",
        "outputId": "a5f68770-76a1-4dfd-a527-59918a347429"
      },
      "outputs": [
        {
          "output_type": "execute_result",
          "data": {
            "text/plain": [
              "<Process(peluqueria) object at 0x7bfa15d28340>"
            ]
          },
          "metadata": {},
          "execution_count": 19
        }
      ],
      "source": [
        "ent.process(peluqueria(ent, pelucas, clientes))"
      ]
    },
    {
      "cell_type": "markdown",
      "metadata": {
        "id": "trb5qOm16x60"
      },
      "source": [
        "Y por fin, ejecutamos la simulación."
      ]
    },
    {
      "cell_type": "code",
      "execution_count": 20,
      "metadata": {
        "colab": {
          "base_uri": "https://localhost:8080/"
        },
        "id": "q4w6iYS66x60",
        "outputId": "0511ca24-b888-4cef-a6a5-6d32aabf561a"
      },
      "outputs": [
        {
          "output_type": "stream",
          "name": "stdout",
          "text": [
            "----Ha llegado el cliente número 0 en el minuto 27.02----\n",
            "****Inicia el corte del cliente 0 en el minuto 27.02****\n",
            "----Ha llegado el cliente número 1 en el minuto 34.58----\n",
            "----Ha llegado el cliente número 2 en el minuto 37.84----\n",
            "xxxTermina el corte del cliente 0 en el minuto 52.28xxx\n",
            "****Inicia el corte del cliente 1 en el minuto 52.28****\n",
            "xxxTermina el corte del cliente 1 en el minuto 70.74xxx\n",
            "****Inicia el corte del cliente 2 en el minuto 70.74****\n",
            "----Ha llegado el cliente número 3 en el minuto 71.51----\n",
            "xxxTermina el corte del cliente 2 en el minuto 87.94xxx\n",
            "****Inicia el corte del cliente 3 en el minuto 87.94****\n",
            "----Ha llegado el cliente número 4 en el minuto 101.33----\n",
            "xxxTermina el corte del cliente 3 en el minuto 113.96xxx\n",
            "****Inicia el corte del cliente 4 en el minuto 113.96****\n",
            "xxxTermina el corte del cliente 4 en el minuto 130.91xxx\n"
          ]
        }
      ],
      "source": [
        "ent.run()"
      ]
    },
    {
      "cell_type": "code",
      "execution_count": 21,
      "metadata": {
        "id": "QrhwEhhj6x61"
      },
      "outputs": [],
      "source": [
        "LTLL, LC, LS = np.array(LTLL), np.array(LC), np.array(LS)\n",
        "t_esp = sum(LS - LTLL - LC)\n",
        "fin_sim = ent.now"
      ]
    },
    {
      "cell_type": "markdown",
      "metadata": {
        "id": "Z4ijmcor6x61"
      },
      "source": [
        "Y finalmente presentamos los recuentos de la simulación así como sus resultados."
      ]
    },
    {
      "cell_type": "code",
      "execution_count": 22,
      "metadata": {
        "colab": {
          "base_uri": "https://localhost:8080/"
        },
        "id": "tBiI184W6x61",
        "outputId": "50e19815-3df3-4ed5-85b0-65730392ad82"
      },
      "outputs": [
        {
          "output_type": "stream",
          "name": "stdout",
          "text": [
            "[ 27.01788863  34.57708622  37.84309064  71.51294348 101.3315631 ]\n",
            "[25.26122877 18.45837913 17.20739877 26.01035403 16.95319534]\n",
            "[ 52.2791174   70.73749653  87.9448953  113.95524934 130.90844468]\n",
            "79.65207512522942 103.8905560518379 130.9084446773146\n"
          ]
        }
      ],
      "source": [
        "print(LTLL)\n",
        "print(LC)\n",
        "print(LS)\n",
        "print(t_esp, dur_corte, fin_sim)"
      ]
    },
    {
      "cell_type": "code",
      "execution_count": 23,
      "metadata": {
        "colab": {
          "base_uri": "https://localhost:8080/"
        },
        "id": "JYBlDOHw6x61",
        "outputId": "d5bceef3-ccf7-46b2-a13e-e6d62c190d51"
      },
      "outputs": [
        {
          "output_type": "stream",
          "name": "stdout",
          "text": [
            "Longitud promedio de la cola (fila): 0.61 personas en cola\n",
            "Tiempo de espera promedio: 15.93 minutos\n",
            "Uso promedio de la instalación: 79.36%\n"
          ]
        }
      ],
      "source": [
        "print(f'Longitud promedio de la cola (fila): {round(t_esp/fin_sim, 2)} personas en cola')\n",
        "print(f'Tiempo de espera promedio: {round(t_esp/clientes,2)} minutos')\n",
        "print(f'Uso promedio de la instalación: {round(100 * dur_corte/fin_sim,2)}%')"
      ]
    },
    {
      "cell_type": "markdown",
      "source": [
        "Ahora, vamos a ir un poco más allá de lo que nos pidió el problema original y más conforme a lo que se ha visto en el curso."
      ],
      "metadata": {
        "id": "RqBFLAj97M80"
      }
    },
    {
      "cell_type": "markdown",
      "source": [
        "Ya con el esqueleto de la peluquería, vamos a generar el experimento para ver que sucede en la peluquería con el paso de los días. Para lo cual usaremos la siguiente función."
      ],
      "metadata": {
        "id": "FKHV3iWc8Cij"
      }
    },
    {
      "cell_type": "code",
      "execution_count": 24,
      "metadata": {
        "id": "XeKsCQJ86x62"
      },
      "outputs": [],
      "source": [
        "def exp(n):\n",
        "  global tc_min, tc_max, ll, no_peluqueros, t_esp, dur_corte, fin_sim, LTLL, LC, LS\n",
        "\n",
        "  no_peluqueros = 1\n",
        "  tc_min = 15\n",
        "  tc_max = 30\n",
        "  ll = 1/20\n",
        "  clientes = 5\n",
        "  cifras = 2\n",
        "\n",
        "  long_cola = []\n",
        "  tiempo_esp = []\n",
        "  uso = []\n",
        "\n",
        "  for _ in range(n):\n",
        "    t_esp = 0\n",
        "    dur_corte = 0\n",
        "    fin_sim = 0\n",
        "\n",
        "    LTLL, LC, LS = [], [], []\n",
        "\n",
        "    ent = simpy.Environment()\n",
        "    pelucas = simpy.Resource(ent, capacity=no_peluqueros)\n",
        "    ent.process(peluqueria(ent, pelucas, clientes, texto=False))\n",
        "    ent.run()\n",
        "    LTLL, LC, LS = np.array(LTLL), np.array(LC), np.array(LS)\n",
        "    t_esp = sum(LS - LTLL - LC)\n",
        "    fin_sim = ent.now\n",
        "\n",
        "    long_cola.append(t_esp/fin_sim)\n",
        "    tiempo_esp.append(t_esp/clientes)\n",
        "    uso.append(100 * dur_corte/fin_sim)\n",
        "\n",
        "  return long_cola, tiempo_esp, uso"
      ]
    },
    {
      "cell_type": "code",
      "source": [
        "n = 500\n",
        "a, b, c = exp(n)"
      ],
      "metadata": {
        "id": "rPIRECrB-ASB"
      },
      "execution_count": 25,
      "outputs": []
    },
    {
      "cell_type": "code",
      "source": [
        "def graf_estado(l, titulo):\n",
        "  g = []\n",
        "  n = len(l)\n",
        "  for i in range(n):\n",
        "    g.append(np.mean(l[:i+1]))\n",
        "  plt.plot(g, 'lightblue')\n",
        "  m = np.mean(l)\n",
        "  s = np.std(l, ddof=1)\n",
        "  plt.hlines(m, 0, n, color='r', linestyles='dotted')\n",
        "  plt.hlines(m + 1.96*np.std(l)/np.sqrt(n), 0, n, color='g', linestyles='dashed')\n",
        "  plt.hlines(m - 1.96*np.std(l)/np.sqrt(n), 0, n, color='g', linestyles='dashed')\n",
        "  plt.title(titulo)\n",
        "  plt.xlabel('iteraciones')\n",
        "  plt.show()"
      ],
      "metadata": {
        "id": "7cgpPZoI__15"
      },
      "execution_count": 26,
      "outputs": []
    },
    {
      "cell_type": "code",
      "source": [
        "plt.style.use('dark_background')\n",
        "graf_estado(a, 'Gráfica de la longitud promedio de la cola (fila)')\n",
        "graf_estado(b, 'Gráfica del tiempo de espera promedio')\n",
        "graf_estado(c, 'Gráfica del uso promedio de la instalación')"
      ],
      "metadata": {
        "colab": {
          "base_uri": "https://localhost:8080/",
          "height": 1000
        },
        "id": "WatNmZNUAfzh",
        "outputId": "d7ae6b63-2b46-482c-9ead-bf8484a80cc6"
      },
      "execution_count": 27,
      "outputs": [
        {
          "output_type": "display_data",
          "data": {
            "text/plain": [
              "<Figure size 640x480 with 1 Axes>"
            ],
            "image/png": "[encoded data removed]"
          },
          "metadata": {}
        },
        {
          "output_type": "display_data",
          "data": {
            "text/plain": [
              "<Figure size 640x480 with 1 Axes>"
            ],
            "image/png": "[encoded data removed]"
          },
          "metadata": {}
        },
        {
          "output_type": "display_data",
          "data": {
            "text/plain": [
              "<Figure size 640x480 with 1 Axes>"
            ],
            "image/png": "[encoded data removed]"
          },
          "metadata": {}
        }
      ]
    },
    {
      "cell_type": "markdown",
      "source": [
        "Y para rematar, hacemos la simulación multiples veces del experimento para encontrar un intervalo de confianza para cáda valor."
      ],
      "metadata": {
        "id": "eyypqDaOD8_R"
      }
    },
    {
      "cell_type": "code",
      "source": [
        "def rep(n, nr):\n",
        "  la, lb, lc = [], [], []\n",
        "  for _ in range(nr):\n",
        "    a, b, c = exp(n)\n",
        "    la.append(np.mean(a))\n",
        "    lb.append(np.mean(b))\n",
        "    lc.append(np.mean(c))\n",
        "  return la, lb, lc"
      ],
      "metadata": {
        "id": "qe5uL7DcEJ6W"
      },
      "execution_count": 28,
      "outputs": []
    },
    {
      "cell_type": "code",
      "source": [
        "n = 500\n",
        "nr = 100\n",
        "a, b, c = rep(n, nr)"
      ],
      "metadata": {
        "id": "943Pwn1BEmiy"
      },
      "execution_count": 36,
      "outputs": []
    },
    {
      "cell_type": "code",
      "source": [
        "from scipy.stats import t\n",
        "ma, mb, mc = np.mean(a), np.mean(b), np.mean(c)\n",
        "sa, sb, sc = np.std(a, ddof=1), np.std(b, ddof=1), np.std(c, ddof=1)\n",
        "t_student = t.ppf(0.975, nr-1)\n",
        "# print(t_student)\n",
        "intervalo_a = (ma - t_student*sa/np.sqrt(nr), ma + t_student*sa/np.sqrt(nr))\n",
        "intervalo_b = (mb - t_student*sb/np.sqrt(nr), mb + t_student*sb/np.sqrt(nr))\n",
        "intervalo_c = (mc - t_student*sc/np.sqrt(nr), mc + t_student*sc/np.sqrt(nr))\n",
        "dec = 5"
      ],
      "metadata": {
        "id": "YJJyR7aAExJf"
      },
      "execution_count": 37,
      "outputs": []
    },
    {
      "cell_type": "code",
      "source": [
        "print(f'El intervalo de confianza al 95% de la longitud promedio de la cola (fila): {np.round(intervalo_a, dec)} personas en cola')\n",
        "print(f'El intervalo de confianza al 95% del tiempo de espera promedio: {np.round(intervalo_b, dec)} minutos')\n",
        "print(f'El intervalo de confianza al 95% del uso promedio de la instalación: {np.round(intervalo_c, dec)}%')"
      ],
      "metadata": {
        "colab": {
          "base_uri": "https://localhost:8080/"
        },
        "id": "xovKcBmmGGES",
        "outputId": "2c550612-eb94-4c96-c26b-a869165bd722"
      },
      "execution_count": 38,
      "outputs": [
        {
          "output_type": "stream",
          "name": "stdout",
          "text": [
            "El intervalo de confianza al 95% de la longitud promedio de la cola (fila): [0.54456 0.55129] personas en cola\n",
            "El intervalo de confianza al 95% del tiempo de espera promedio: [15.01902 15.17985] minutos\n",
            "El intervalo de confianza al 95% del uso promedio de la instalación: [77.73161 77.99496]%\n"
          ]
        }
      ]
    }
  ],
  "metadata": {
    "kernelspec": {
      "display_name": "Python 3",
      "language": "python",
      "name": "python3"
    },
    "language_info": {
      "codemirror_mode": {
        "name": "ipython",
        "version": 3
      },
      "file_extension": ".py",
      "mimetype": "text/x-python",
      "name": "python",
      "nbconvert_exporter": "python",
      "pygments_lexer": "ipython3",
      "version": "3.11.3"
    },
    "colab": {
      "provenance": [],
      "include_colab_link": true
    }
  },
  "nbformat": 4,
  "nbformat_minor": 0
}