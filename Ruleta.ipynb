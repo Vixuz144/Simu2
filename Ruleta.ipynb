{
  "nbformat": 4,
  "nbformat_minor": 0,
  "metadata": {
    "colab": {
      "provenance": [],
      "authorship_tag": "ABX9TyPZrKPJ3f7ZF5CWlMIvrzhI",
      "include_colab_link": true
    },
    "kernelspec": {
      "name": "python3",
      "display_name": "Python 3"
    },
    "language_info": {
      "name": "python"
    }
  },
  "cells": [
    {
      "cell_type": "markdown",
      "metadata": {
        "id": "view-in-github",
        "colab_type": "text"
      },
      "source": [
        "<a href=\"https://colab.research.google.com/github/Vixuz144/Simu2/blob/main/Ruleta.ipynb\" target=\"_parent\"><img src=\"https://colab.research.google.com/assets/colab-badge.svg\" alt=\"Open In Colab\"/></a>"
      ]
    },
    {
      "cell_type": "markdown",
      "source": [
        "#Recordemos..."
      ],
      "metadata": {
        "id": "wMa-QJ3V9wBu"
      }
    },
    {
      "cell_type": "markdown",
      "source": [
        "##Regla de Laplace"
      ],
      "metadata": {
        "id": "CCZnvn69NtOa"
      }
    },
    {
      "cell_type": "markdown",
      "source": [
        "Recordemos algunos de los conceptos que (posiblemente) vimos en el curso de Probabilidad.\n",
        "\n",
        "Primero, la formula de Laplace para la probabilidad.\n",
        "\n",
        "$$ \\textrm{Probabilidad} = \\frac{\\textrm{No. Casos Favorables}}{\\textrm{No. Casos Totales}} $$\n",
        "\n",
        "La cual de manera resumida la podemos encontrar en diversas fuentes como\n",
        "\n",
        "$$ P = \\frac{n}{N} $$"
      ],
      "metadata": {
        "id": "AyESqCM295R2"
      }
    },
    {
      "cell_type": "markdown",
      "source": [
        "Pero, que nos representan los casos favorables y casos totales. Para ello recordemos algunos conceptos como el *espacio muestral* y los *eventos*."
      ],
      "metadata": {
        "id": "G6AvjE8eDTU2"
      }
    },
    {
      "cell_type": "markdown",
      "source": [
        "##Espacio muestral y eventos"
      ],
      "metadata": {
        "id": "7_ikxLmHN-p_"
      }
    },
    {
      "cell_type": "markdown",
      "source": [
        "El **espacio muestral**, denotado comunmente con los simbolos $S$, $U$ u $Ω$ (dependiendo de la referencia y del contexto), representa el conjunto de todos los posibles resultados de un experimento estadístico.\n",
        "\n",
        "Mientras que un **evento** es un subconjunto del espacio muestral, es decir, es un conjunto o recopilación de resultados del experimento. Denotado normalmente con alguna letra relacionada con el evento."
      ],
      "metadata": {
        "id": "0ioXsbtgD0vj"
      }
    },
    {
      "cell_type": "markdown",
      "source": [
        "Para ilustrarlo de mejor manera veamos un par de ejemplos.\n",
        "\n",
        "\n",
        "\n",
        "1.   al lanzar una moneda (experimento) resulta el siguiente espacio muestral con las posibles maneras en que caiga:\n",
        "$$ S = \\{\\textrm{Águila}, \\textrm{Sol}\\} $$\n",
        "donde podemos definir los eventos:\n",
        "$$ A: \\textrm{El evento de al lanzar la moneda caiga águila}$$\n",
        "$$ S: \\textrm{El evento de al lanzar la moneda caiga sol}$$\n",
        "2.   El lanzamiento de un dado (experimento) puede resultar en que caiga en cualquiera de sus seis caras, el número representado en cada una se sus caras por puntos se muestra en el siguiente espacio muestral:\n",
        "$$ S = \\{1, 2, 3, 4, 5, 6\\} $$\n",
        "de este podemos construir eventos cono:\n",
        "$$ E_1: \\textrm{El evento en que salga un número par} $$\n",
        "$$ E_2: \\textrm{El evento en que salga 3} $$\n",
        "$$ E_3: \\textrm{El evento en que salga 1 o 6} $$\n",
        "\n",
        "\n",
        "\n"
      ],
      "metadata": {
        "id": "vUsrIXQyFdGQ"
      }
    },
    {
      "cell_type": "markdown",
      "source": [
        "Con estos conceptos, ya podemos entender más adecuadamente la formula de Laplace, la cual nos hace referencia a la cantidad de casos o resultados en los que se satisface un evento del total de resultados posibles."
      ],
      "metadata": {
        "id": "9CGAIix7HkTn"
      }
    },
    {
      "cell_type": "markdown",
      "source": [
        "Volviendo un momento al ejemplo de la moneda. la probabilidad del evento $A$ denotado por $P(A)$ se calcularía de la siguiente manera:\n",
        "$$ P(A) = \\frac{1}{2} $$\n",
        "esto ya que hay 2 posibles resultados de los cuales la cantidad de resultados que satisface el evento $A$ es 1.\n",
        "\n",
        "Y para el ejemplo dos, la probabilidad de obtener un número par sería.\n",
        "$$ P(E_1) = \\frac{1 + 1 + 1}{6} = \\frac{3}{6} $$"
      ],
      "metadata": {
        "id": "5RqnnxS6H3BH"
      }
    },
    {
      "cell_type": "markdown",
      "source": [
        "##Probabilidad condicional"
      ],
      "metadata": {
        "id": "2p9twYAMNmzt"
      }
    },
    {
      "cell_type": "markdown",
      "source": [
        "Hace falta mencionar la probabilidad condicional, la cual se define como:\n",
        "\n",
        "$$ P(A|B) = \\frac{P(A ∩ B)}{P(B)}  $$\n",
        "\n",
        "donde:\n",
        "\n",
        "* $P(A∩B)$: es la probabilidad de la intersección de los eventos $A$ y $B$. Dicho de otro modo, es la probabilidad de que los eventos $A$ y $B$ se cumplan a la vez.\n",
        "\n",
        "* $P(B)$: es la probabilidad del evento $B$.\n",
        "\n",
        "* $P(A|B)$: Es la probabilidad de que ocurra el evento $A$ siendo que el evento $B$ ya sucedió.\n",
        "\n",
        "La notación de $P(A|B)$ se lee como \"*la probabilidad de A dado B*\"."
      ],
      "metadata": {
        "id": "lbxRSb_yK4Tf"
      }
    },
    {
      "cell_type": "markdown",
      "source": [
        "Esta pequeña formulita nos hace referencia a eventos los cuales cambian su probabilidad dependiendo de la ocurrencia de otros eventos."
      ],
      "metadata": {
        "id": "wSXBwtQSOo5P"
      }
    },
    {
      "cell_type": "markdown",
      "source": [
        "Si realizamos un pequeño despeje en la ecuación anterior, se tiene:\n",
        "$$ P(A ∩ B) = P(A|B)P(B) $$\n",
        "De igual manera\n",
        "$$ P(B ∩ A) = P(B|A)P(A) $$\n",
        "\n",
        "Pero hay un pequeño detalle que debemos recordar de teoria de conjuntos. Dado a que los eventos los podemos ver como conjuntos, la interseccion de estos es conmutativa, es decir, $A ∩ B = B ∩ A$. Y por ende:\n",
        "$$ P(A ∩ B) = P(B ∩ A) $$\n",
        "\n",
        "Y con esto podemos llegar a la conclusión de que\n",
        "$$  P(A|B)P(B) = P(B|A)P(A) $$"
      ],
      "metadata": {
        "id": "mUQSXJg-dl2w"
      }
    },
    {
      "cell_type": "markdown",
      "source": [
        "Pero, ¿A qué queremos llegar con todo esto?. Pues nuestra intención es poder reconstruir la probabilidad de un evento a partir de la probabilidad conjunta. Para ello, necesitaremos de un concepto extra, llamado..."
      ],
      "metadata": {
        "id": "L732omKQhFJd"
      }
    },
    {
      "cell_type": "markdown",
      "source": [
        "##Partición del espacio muestral"
      ],
      "metadata": {
        "id": "B18PkF1nf93f"
      }
    },
    {
      "cell_type": "markdown",
      "source": [
        "Decimos que los eventos $B_1, B_2, ..., B_N$ representan una partición del espacio muestral $S$ si:\n",
        "* $ B_i ∩ B_j = ∅ \\quad ∀i \\neq j \\quad i,j∈\\{1,2,...,N\\} $\n",
        "* $ ⋃_{i=1}^N B_i = S $\n",
        "* $ P(B_i) > 0, ∀i∈\\{1,2,...,N\\} $\n",
        "\n",
        "De esta manera, al realizar particiones del espacio muestral aseguramos tener cachitos del espacio que al juntarlos todos conforman el espacio muestral. Como un rompecabezas."
      ],
      "metadata": {
        "id": "bU1c2Zs9hCGk"
      }
    },
    {
      "cell_type": "markdown",
      "source": [
        "Ya con todo esto podemos formar la herramienta clave vara este notebook. Primero, dado un espacio muestral S vamos a hacer N particiones de él, las cuales tomaremos como N enevtos que denotaremos por $B_i$ ($i∈\\{1,2,...,N\\}$). Además, construiremos un evento distinto de estos que denotaremos por A, el cual es nuestro evento de interés.\n",
        "\n",
        "Por la forma en que tomamos $B_i$.\n",
        "\n",
        "$$ ⋃_{i=1}^N B_i = S ⇒ P \\left( ⋃_{i=1}^N B_i \\right) = P(S) = 1 $$\n",
        "\n",
        "A su vez, por propiedades de los conjuntos\n",
        "\n",
        "$$ P(A) = P(A∩S) = P\\left(A ∩ \\left( ⋃_{i=1}^N B_i \\right) \\right) =   P\\left( ⋃_{i=1}^N (A \\cap B_i) \\right) $$\n",
        "\n",
        "Luego, al ser eventos mutuamente excluyentes, por como estan formados los $B_i$, podemos usar la adición de eventos mutuamente excluyentes, es decir, $ P\\left(⋃_{i=1}^N B_i\\right) = ∑_{i=1}^N P(B_i) $.\n",
        "\n",
        "$$ P\\left( ⋃_{i=1}^N (A ∩ B_i) \\right) = ∑_{i=1}^N P(A ∩ B_i) $$\n",
        "\n",
        "Y finalmente, al aplicar el despeje de probabilidad condicional antes hecho.\n",
        "\n",
        "$$ ∑_{i=1}^N P(A ∩ B_i) = ∑_{i=1}^N P(A|B_i)P(B_i) $$"
      ],
      "metadata": {
        "id": "EX7--9ZqyHKQ"
      }
    },
    {
      "cell_type": "markdown",
      "source": [
        "$$ \\therefore P(A) = ∑_{i=1}^N P(A|B_i)P(B_i) $$\n",
        "\n",
        "Se consiguió, hemos \"separado\" un evento en otros eventos con la probabilidad condicional. Lo cual no es nada nuevo, inclusive es conocido como el *Teorema de probabilidad total*.\n"
      ],
      "metadata": {
        "id": "IIR5kqCZ3zIf"
      }
    },
    {
      "cell_type": "markdown",
      "source": [
        "#El ejemplo de las pelotas"
      ],
      "metadata": {
        "id": "jrN_rE_b4RNp"
      }
    },
    {
      "cell_type": "markdown",
      "source": [
        "Ahora bien, para que nos sirve todas estas peripecias matemáticas que hemos hecho. Pues para aclararlo creo conveniente ilustrarlo mediante el siguiente ejemplo."
      ],
      "metadata": {
        "id": "4gSgKYXZdlHs"
      }
    },
    {
      "cell_type": "markdown",
      "source": [
        "Se tienen repartidas pelotas de colores en dos urnas. En la primer urna hay 7 pelotas, de las cuales 3 son se color rojo y el resto son de color azul. Mientras que en la segunda urna hay 10 pelotas, de las cuales 4 son azules, 3 son rojas, 2 son verdes y 1 es negra. Se le invita a usted a tomar una pelota con los ojos vendados y saca una pelota de color azul.\n",
        "\n",
        "Entonces, ¿Como podríamos saber cual es la probabilidad de que la pelota tomada sea de la primer urna o de la segunda?"
      ],
      "metadata": {
        "id": "DMTvRohfTM-H"
      }
    },
    {
      "cell_type": "markdown",
      "source": [
        "Para poder solucionar este problema haremos uso de la probabilidad condicional, para lo cual primero definamos bien nuestros eventos.\n",
        "\n",
        "Sean:\n",
        "\n",
        "$\\hspace{7mm} A$: El evento de tomar una pelota azul de alguna de las urnas.\n",
        "\n",
        "$\\hspace{7mm} U_1$: El evento de tomar una pelota de la primer urna\n",
        "\n",
        "$\\hspace{7mm} U_2$: El evento de tomar una pelota de la segunda urna\n",
        "\n",
        "Ahora, podemos reescribir el problema con la notación antes vista. Con lo que la probabilidad de que la pelota azul tomada sea de la primera urna queda:\n",
        "\n",
        "$$ P(U_1|A) = \\frac{P(U_1 ∩ A)}{P(A)} $$\n",
        "\n",
        "Ahora nuestro problema se reduce a calculas las probabilidades y sustituirlas.\n",
        "\n",
        "Comencemos calculando $ P(U_1 ∩ A) $, la cual es la probabilidad de que al tomar una pelota sea azul y provenga de la primer urna. Lo cual a su vez se puede reescribir como la probabilidad de que al tomar una pelota azul provenga de la primer urna multiplicada por la probabilidad de provenir de la primera urna.\n",
        "\n",
        "$$ P(U_1 ∩ A) = P(A|U_1)P(U_1) $$\n",
        "\n",
        "Donde $P(A|U_1)$ se puede calcular con la formula de Laplace. Mientras que $P(U_1)$ no se nos dá de manera implícita, sino que al ser la selección de urna un proceso aleatorio, podemos asumir equiprobabilidad.\n",
        "\n",
        "$$ P(U_1 ∩ A) = \\frac{4}{7}*\\frac{1}{2} = \\frac{2}{7} $$\n",
        "\n",
        "Por otro lado, $P(A)$ es la probabilidad de tomar una pelota azul de cualquiera de las urnas, por lo que hacemos uso del terorema de probabilidad total.\n",
        "\n",
        "$$ P(A) = P(A|U_1)P(U_1) + P(A|U_2)P(U_2) $$\n",
        "\n",
        "$$ P(A) = \\frac{4}{7}*\\frac{1}{2} + \\frac{4}{10}*\\frac{1}{2} = \\frac{2}{7} + \\frac{1}{5} = \\frac{17}{35} $$\n",
        "\n",
        "Ahora, solo nos queda sustituir los valores en la ecuacion de la probabilidad condicional.\n",
        "\n",
        "$$ P(U_1|A) = \\frac{P(U_1 ∩ A)}{P(A)} = \\frac{\\frac{2}{7}}{\\frac{17}{35}} = \\frac{2*35}{7*17} = \\frac{10}{17}$$\n",
        "\n",
        "Es decir, la probabilidad de que la pelota azul tomada sea de la primer urna es de $\\frac{10}{17} ≈ 0.5882 = 58.82\\%$"
      ],
      "metadata": {
        "id": "0jfN_e92S00L"
      }
    },
    {
      "cell_type": "markdown",
      "source": [
        "De igual manera podemos encontrar la probabilidad de que la pelota azul tomada sea de la segunda urna. Resultando en:\n",
        "$$ P(U_2|A) = \\frac{P(U_2 ∩ A)}{P(A)} =\\frac{P(A|U_2)P(U_2)}{P(A|U_1)P(U_1) + P(A|U_2)P(U_2)} = \\frac{\\frac{2}{10}}{\\frac{17}{35}} = \\frac{7}{17} ≈ 0.4118 = 41.18 \\% $$"
      ],
      "metadata": {
        "id": "nSONxNfPYZI_"
      }
    },
    {
      "cell_type": "markdown",
      "source": [
        "Y como curiosidad final, podemos observar otro resultado famoso en este ultimo desarrollo, conocido por el nombre de *Teorema de Bayes*."
      ],
      "metadata": {
        "id": "nR6LYN9KKx3A"
      }
    },
    {
      "cell_type": "markdown",
      "source": [
        "Ahora que ya hemos hecho memoria, podemos proseguir con el problema que hoy es foco de nuestro interéz, el problema de la ruleta."
      ],
      "metadata": {
        "id": "uucT5yauIwiH"
      }
    },
    {
      "cell_type": "markdown",
      "source": [
        "#Problema de la ruleta/disco"
      ],
      "metadata": {
        "id": "YNQHPkPj9tm_"
      }
    },
    {
      "cell_type": "markdown",
      "source": [
        "Supongamos que tenbemos un tablero de cuatro sectores. Lanzamos 2 monedas y avanzamos en sentido horario el número de caras que aparezcan. Si repetimos el procedimiento...\n",
        "\n",
        "¿Son todos los sectores igual de probables cuando pase el tiempo?"
      ],
      "metadata": {
        "id": "4LSTd9zN7pZx"
      }
    },
    {
      "cell_type": "markdown",
      "source": [
        "![imagen_2024-09-28_210226242.png](data:image/png;base64,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)"
      ],
      "metadata": {
        "id": "A0KDU8o68PEI"
      }
    },
    {
      "cell_type": "markdown",
      "source": [
        "Primero, vamos a establecer claramente nuestros eventos. Sean:\n",
        "\n",
        "* N_k: el evento en que nos encontramos en el sector de color **negro** en el lanzamiento **k** de monedas.\n",
        "* R_k: el evento en que nos encontramos en el sector de color **rojo** en el lanzamiento **k** de monedas.\n",
        "* V_k: el evento en que nos encontramos en el sector de color **verde** en el lanzamiento **k** de monedas.\n",
        "* A_k: el evento en que nos encontramos en el sector de color **azul** en el lanzamiento **k** de monedas.\n",
        "\n",
        "Como la posición en el disco depende de la posición anterior y la cantidad de caras después del lanzamiento de dos monedas, analicemos como es estar en cada uno de los sectores."
      ],
      "metadata": {
        "id": "UrbCYrUeLOJ4"
      }
    },
    {
      "cell_type": "markdown",
      "source": [
        "##Sector Negro $(N_K)$\n",
        "\n"
      ],
      "metadata": {
        "id": "RP1cLgIwTyjJ"
      }
    },
    {
      "cell_type": "markdown",
      "source": [
        "Como se puede apreciar en la imagen, y al estar sujeto al movimiento en sentido horario, sabemos que al estar actualmente en el sector negro debemos de provenir de alguno de los 4 sectores del disco, pero ¿Cuál?.\n",
        "\n",
        "Pues la respuesta es que no lo sabemos, o al menos no con certeza. Esto porque dependemos del lanzamiento de dos monedas para avanzar en la ruleta, lo cual a grandes razgos es un proceso que se basa en la aleatoriedad.\n",
        "\n",
        "Y es aquí donde entra las poderosas herramientas que vimos anteriormente, la probabilidad condicional, la regla de Laplace, la particion del espacio muestral y el teorema de probabilidad total. Pero sobre todo esta última.\n",
        "\n",
        "$$ P(N_k) = P(N_k|N_{k-1})P(N_{k-1}) + P(N_k|V_{k-1})P(V_{k-1}) + P(N_k|A_{k-1})P(A_{k-1}) + P(N_k|R_{k-1})P(R_{k-1}) $$\n",
        "\n",
        "Esta ecuacion nos expresa nuestra posición actual en la ruleta (sector negro) a partir de nuestra posición anterior y la probabilidad de haber avanzado desde esa posición.\n",
        "\n",
        "Una manera de entenderlo es expresar la información conocida actualmente en función de aquella información que poseíamos en el pasado. Donde la información actual es $N_k$ y la información pasada la constituye $N_{k-1}$, $V_{k-1}$, $A_{k-1}$ y$R_{k-1}$.\n",
        "\n",
        "Únicamente nos queda alcarar cuales son los valores de las probabilidades condicionales. como ya lo mencionamos antes, estas son las probabilidades de pasar al sector anterior al sector actual. Es decir, la probabilidad de haber estado en otro sector en el lanzamiento anterior ya que estamos en la posición actual. Y para calcularlo tenemos que entender la manera en que avanzamos en la ruleta, y esto es mediante el..."
      ],
      "metadata": {
        "id": "PsChivb7T9FQ"
      }
    },
    {
      "cell_type": "markdown",
      "source": [
        "##Lanzamiento de monedas"
      ],
      "metadata": {
        "id": "BxstnOh-UQw4"
      }
    },
    {
      "cell_type": "markdown",
      "source": [
        "Al lanzar una moneda tenemos dos posibles resultados: caer sol (cara) o caar águila(cruz). Por lo que nuestros eventos se pueden resumir como:\n",
        "* $S$: el evento en que la moneda cae en sol.\n",
        "* $A$: el evento en que la moneda cae en águila.\n",
        "\n",
        "De esta manera, nuestro espacio muestral se puede ver escribir como $Ω = \\{S, A\\}$. Con lo que podemos intuir que las probabilidades serán $P(A) = \\frac{1}{2}$ y $P(S) = \\frac{1}{2}$.\n",
        "\n",
        "Sin embargo, al agregar una moneda se altera el espacio muestral y por ende las probabilidades de obtener cierta canidad de caraso soles. Pero primero definamos los eventos posibles en función a la cantidad de soles observados con el lanzamiento de cada par de monedas. Sean:\n",
        "* $0S$: el evento en que ninguna moneda cae en sol.\n",
        "* $1S$: el evento en que una moneda cae en sol.\n",
        "* $2S$: el evento en que dos monedas caen en sol.\n",
        "\n",
        "Notemos que para que el evento $0S$ ocurra ambas monedas deben caer en águila, para que el evento $2S$ ocurra ambas monedas deben caer en sol y para que ocurra el evento $1S$ basta con que una de las dos monedas caiga sol.\n",
        "\n",
        "Por lo que ya nos podemos dar una idea de lo que há ocurrido, pero para aclararlo aún más, nuestro espacio muestral lo construiremos a partir de tuplas con los resultados de los dos lanzamientos.\n",
        "\n",
        "$$Ω = \\{(S,S), (S,A), (A,S), (A,A)\\}$$\n",
        "\n",
        "Observando bien nuestro espacio muestral, podemos calcular las probabilidades de cada evento por medio de la regla de Laplace.\n",
        "\n",
        "$$ P(1S) = \\frac{1}{4} $$\n",
        "\n",
        "$$ P(2S) = \\frac{2}{4} = \\frac{1}{2} $$\n",
        "\n",
        "$$ P(3S) = \\frac{1}{4} $$"
      ],
      "metadata": {
        "id": "Ltx4BOFfaDkC"
      }
    },
    {
      "cell_type": "markdown",
      "source": [
        "Ahora bien, al llevar y adaptar estas probabilidades a nuestro problema obtenemos que la probabilidad de avanzar 2 pasos es $\\frac{1}{4}$, la probabilidad de avanzar 1 pazo es $\\frac{2}{4}$ y la probabilidad de no avanzar es $\\frac{1}{4}$. Con lo cual ya tenemos lo que nos hacia falta para analizar los posibles estados de nuestro sistema de ruleta."
      ],
      "metadata": {
        "id": "C0zMAT_1gjvj"
      }
    },
    {
      "cell_type": "code",
      "source": [],
      "metadata": {
        "id": "wAq3erwaHjXH"
      },
      "execution_count": null,
      "outputs": []
    },
    {
      "cell_type": "code",
      "source": [],
      "metadata": {
        "id": "-drESgD395EO"
      },
      "execution_count": null,
      "outputs": []
    },
    {
      "cell_type": "code",
      "execution_count": null,
      "metadata": {
        "id": "hsKs65K57nj-"
      },
      "outputs": [],
      "source": []
    },
    {
      "cell_type": "markdown",
      "source": [],
      "metadata": {
        "id": "dGD5irx9JsLw"
      }
    }
  ]
}