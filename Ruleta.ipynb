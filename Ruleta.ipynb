{
  "nbformat": 4,
  "nbformat_minor": 0,
  "metadata": {
    "colab": {
      "provenance": [],
      "authorship_tag": "ABX9TyNkx/b5Hr6MyYDLi6yIpwTw",
      "include_colab_link": true
    },
    "kernelspec": {
      "name": "python3",
      "display_name": "Python 3"
    },
    "language_info": {
      "name": "python"
    }
  },
  "cells": [
    {
      "cell_type": "markdown",
      "metadata": {
        "id": "view-in-github",
        "colab_type": "text"
      },
      "source": [
        "<a href=\"https://colab.research.google.com/github/Vixuz144/Simu2/blob/main/Ruleta.ipynb\" target=\"_parent\"><img src=\"https://colab.research.google.com/assets/colab-badge.svg\" alt=\"Open In Colab\"/></a>"
      ]
    },
    {
      "cell_type": "markdown",
      "source": [
        "#Recordemos..."
      ],
      "metadata": {
        "id": "wMa-QJ3V9wBu"
      }
    },
    {
      "cell_type": "markdown",
      "source": [
        "##Regla de Laplace"
      ],
      "metadata": {
        "id": "CCZnvn69NtOa"
      }
    },
    {
      "cell_type": "markdown",
      "source": [
        "Recordemos algunos de los conceptos que (posiblemente) vimos en el curso de Probabilidad.\n",
        "\n",
        "Primero, la formula de Laplace para la probabilidad.\n",
        "\n",
        "$$ \\textrm{Probabilidad} = \\frac{\\textrm{No. Casos Favorables}}{\\textrm{No. Casos Totales}} $$\n",
        "\n",
        "La cual de manera resumida la podemos encontrar en diversas fuentes como\n",
        "\n",
        "$$ P = \\frac{n}{N} $$"
      ],
      "metadata": {
        "id": "AyESqCM295R2"
      }
    },
    {
      "cell_type": "markdown",
      "source": [
        "Pero, que nos representan los casos favorables y casos totales. Para ello recordemos algunos conceptos como el *espacio muestral* y los *eventos*."
      ],
      "metadata": {
        "id": "G6AvjE8eDTU2"
      }
    },
    {
      "cell_type": "markdown",
      "source": [
        "##Espacio muestral y eventos"
      ],
      "metadata": {
        "id": "7_ikxLmHN-p_"
      }
    },
    {
      "cell_type": "markdown",
      "source": [
        "El **espacio muestral**, denotado comunmente con los simbolos $S$, $U$ u $Ω$ (dependiendo de la referencia y del contexto), representa el conjunto de todos los posibles resultados de un experimento estadístico.\n",
        "\n",
        "Mientras que un **evento** es un subconjunto del espacio muestral, es decir, es un conjunto o recopilación de resultados del experimento. Denotado normalmente con alguna letra relacionada con el evento."
      ],
      "metadata": {
        "id": "0ioXsbtgD0vj"
      }
    },
    {
      "cell_type": "markdown",
      "source": [
        "Para ilustrarlo de mejor manera veamos un par de ejemplos.\n",
        "\n",
        "\n",
        "\n",
        "1.   al lanzar una moneda (experimento) resulta el siguiente espacio muestral con las posibles maneras en que caiga:\n",
        "$$ S = \\{\\textrm{Águila}, \\textrm{Sol}\\} $$\n",
        "donde podemos definir los eventos:\n",
        "$$ A: \\textrm{El evento de al lanzar la moneda caiga águila}$$\n",
        "$$ S: \\textrm{El evento de al lanzar la moneda caiga sol}$$\n",
        "2.   El lanzamiento de un dado (experimento) puede resultar en que caiga en cualquiera de sus seis caras, el número representado en cada una se sus caras por puntos se muestra en el siguiente espacio muestral:\n",
        "$$ S = \\{1, 2, 3, 4, 5, 6\\} $$\n",
        "de este podemos construir eventos cono:\n",
        "$$ E_1: \\textrm{El evento en que salga un número par} $$\n",
        "$$ E_2: \\textrm{El evento en que salga 3} $$\n",
        "$$ E_3: \\textrm{El evento en que salga 1 o 6} $$\n",
        "\n",
        "\n",
        "\n"
      ],
      "metadata": {
        "id": "vUsrIXQyFdGQ"
      }
    },
    {
      "cell_type": "markdown",
      "source": [
        "Con estos conceptos, ya podemos entender más adecuadamente la formula de Laplace, la cual nos hace referencia a la cantidad de casos o resultados en los que se satisface un evento del total de resultados posibles."
      ],
      "metadata": {
        "id": "9CGAIix7HkTn"
      }
    },
    {
      "cell_type": "markdown",
      "source": [
        "Volviendo un momento al ejemplo de la moneda. la probabilidad del evento $A$ denotado por $P(A)$ se calcularía de la siguiente manera:\n",
        "$$ P(A) = \\frac{1}{2} $$\n",
        "esto ya que hay 2 posibles resultados de los cuales la cantidad de resultados que satisface el evento $A$ es 1.\n",
        "\n",
        "Y para el ejemplo dos, la probabilidad de obtener un número par sería.\n",
        "$$ P(E_1) = \\frac{1 + 1 + 1}{6} = \\frac{3}{6} $$"
      ],
      "metadata": {
        "id": "5RqnnxS6H3BH"
      }
    },
    {
      "cell_type": "markdown",
      "source": [
        "##Probabilidad condicional"
      ],
      "metadata": {
        "id": "2p9twYAMNmzt"
      }
    },
    {
      "cell_type": "markdown",
      "source": [
        "Hace falta mencionar la probabilidad condicional, la cual se define como:\n",
        "\n",
        "$$ P(A|B) = \\frac{P(A ∩ B)}{P(B)}  $$\n",
        "\n",
        "donde:\n",
        "\n",
        "* $P(A∩B)$: es la probabilidad de la intersección de los eventos $A$ y $B$. Dicho de otro modo, es la probabilidad de que los eventos $A$ y $B$ se cumplan a la vez.\n",
        "\n",
        "* $P(B)$: es la probabilidad del evento $B$.\n",
        "\n",
        "* $P(A|B)$: Es la probabilidad de que ocurra el evento $A$ siendo que el evento $B$ ya sucedió.\n",
        "\n",
        "La notación de $P(A|B)$ se lee como \"*la probabilidad de A dado B*\"."
      ],
      "metadata": {
        "id": "lbxRSb_yK4Tf"
      }
    },
    {
      "cell_type": "markdown",
      "source": [
        "Esta pequeña formulita nos hace referencia a eventos los cuales cambian su probabilidad dependiendo de la ocurrencia de otros eventos."
      ],
      "metadata": {
        "id": "wSXBwtQSOo5P"
      }
    },
    {
      "cell_type": "markdown",
      "source": [
        "Si realizamos un pequeño despeje en la ecuación anterior, se tiene:\n",
        "$$ P(A ∩ B) = P(A|B)P(B) $$\n",
        "De igual manera\n",
        "$$ P(B ∩ A) = P(B|A)P(A) $$\n",
        "\n",
        "Pero hay un pequeño detalle que debemos recordar de teoria de conjuntos. Dado a que los eventos los podemos ver como conjuntos, la interseccion de estos es conmutativa, es decir, $A ∩ B = B ∩ A$. Y por ende:\n",
        "$$ P(A ∩ B) = P(B ∩ A) $$\n",
        "\n",
        "Y con esto podemos llegar a la conclusión de que\n",
        "$$  P(A|B)P(B) = P(B|A)P(A) $$"
      ],
      "metadata": {
        "id": "mUQSXJg-dl2w"
      }
    },
    {
      "cell_type": "markdown",
      "source": [
        "Pero, ¿A qué queremos llegar con todo esto?. Pues nuestra intención es poder reconstruir la probabilidad de un evento a partir de la probabilidad conjunta. Para ello, necesitaremos de un concepto extra, llamado..."
      ],
      "metadata": {
        "id": "L732omKQhFJd"
      }
    },
    {
      "cell_type": "markdown",
      "source": [
        "##Partición del espacio muestral"
      ],
      "metadata": {
        "id": "B18PkF1nf93f"
      }
    },
    {
      "cell_type": "markdown",
      "source": [
        "Decimos que los eventos $B_1, B_2, ..., B_N$ representan una partición del espacio muestral $S$ si:\n",
        "* $ B_i ∩ B_j = ∅ \\quad ∀i \\neq j \\quad i,j∈\\{1,2,...,N\\} $\n",
        "* $ ⋃_{i=1}^N B_i = S $\n",
        "* $ P(B_i) > 0, ∀i∈\\{1,2,...,N\\} $\n",
        "\n",
        "De esta manera, al realizar particiones del espacio muestral aseguramos tener cachitos del espacio que al juntarlos todos conforman el espacio muestral. Como un rompecabezas."
      ],
      "metadata": {
        "id": "bU1c2Zs9hCGk"
      }
    },
    {
      "cell_type": "markdown",
      "source": [
        "Ya con todo esto podemos formar la herramienta clave vara este notebook. Primero, dado un espacio muestral S vamos a hacer N particiones de él, las cuales tomaremos como N enevtos que denotaremos por $B_i$ ($i∈\\{1,2,...,N\\}$). Además, construiremos un evento distinto de estos que denotaremos por A, el cual es nuestro evento de interés.\n",
        "\n",
        "Por la forma en que tomamos $B_i$.\n",
        "\n",
        "$$ ⋃_{i=1}^N B_i = S ⇒ P \\left( ⋃_{i=1}^N B_i \\right) = P(S) = 1 $$\n",
        "\n",
        "A su vez, por propiedades de los conjuntos\n",
        "\n",
        "$$ P(A) = P(A∩S) = P\\left(A ∩ \\left( ⋃_{i=1}^N B_i \\right) \\right) =   P\\left( ⋃_{i=1}^N (A \\cap B_i) \\right) $$\n",
        "\n",
        "Luego, al ser eventos mutuamente excluyentes, por como estan formados los $B_i$, podemos usar la adición de eventos mutuamente excluyentes, es decir, $ P\\left(⋃_{i=1}^N B_i\\right) = ∑_{i=1}^N P(B_i) $.\n",
        "\n",
        "$$ P\\left( ⋃_{i=1}^N (A ∩ B_i) \\right) = ∑_{i=1}^N P(A ∩ B_i) $$\n",
        "\n",
        "Y finalmente, al aplicar el despeje de probabilidad condicional antes hecho.\n",
        "\n",
        "$$ ∑_{i=1}^N P(A ∩ B_i) = ∑_{i=1}^N P(A|B_i)P(B_i) $$"
      ],
      "metadata": {
        "id": "EX7--9ZqyHKQ"
      }
    },
    {
      "cell_type": "markdown",
      "source": [
        "$$ \\therefore P(A) = ∑_{i=1}^N P(A|B_i)P(B_i) $$\n",
        "\n",
        "Se consiguió, hemos \"separado\" un evento en otros eventos con la probabilidad condicional. Lo cual no es nada nuevo, inclusive es conocido como el *Teorema de probabilidad total*.\n"
      ],
      "metadata": {
        "id": "IIR5kqCZ3zIf"
      }
    },
    {
      "cell_type": "markdown",
      "source": [
        "#El ejemplo de las pelotas"
      ],
      "metadata": {
        "id": "jrN_rE_b4RNp"
      }
    },
    {
      "cell_type": "markdown",
      "source": [
        "Ahora bien, para que nos sirve todas estas peripecias matemáticas que hemos hecho. Pues para aclararlo creo conveniente ilustrarlo mediante el siguiente ejemplo."
      ],
      "metadata": {
        "id": "4gSgKYXZdlHs"
      }
    },
    {
      "cell_type": "markdown",
      "source": [
        "Se tienen repartidas pelotas de colores en dos urnas. En la primer urna hay 7 pelotas, de las cuales 3 son se color rojo y el resto son de color azul. Mientras que en la segunda urna hay 10 pelotas, de las cuales 4 son azules, 3 son rojas, 2 son verdes y 1 es negra. Se le invita a usted a tomar una pelota con los ojos vendados y saca una pelota de color azul.\n",
        "\n",
        "Entonces, ¿Como podríamos saber cual es la probabilidad de que la pelota tomada sea de la primer urna o de la segunda?"
      ],
      "metadata": {
        "id": "DMTvRohfTM-H"
      }
    },
    {
      "cell_type": "markdown",
      "source": [
        "Para poder solucionar este problema haremos uso de la probabilidad condicional, para lo cual primero definamos bien nuestros eventos.\n",
        "\n",
        "Sean:\n",
        "\n",
        "$\\hspace{7mm} A$: El evento de tomar una pelota azul de alguna de las urnas.\n",
        "\n",
        "$\\hspace{7mm} U_1$: El evento de tomar una pelota de la primer urna\n",
        "\n",
        "$\\hspace{7mm} U_2$: El evento de tomar una pelota de la segunda urna\n",
        "\n",
        "Ahora, podemos reescribir el problema con la notación antes vista. Con lo que la probabilidad de que la pelota azul tomada sea de la primera urna queda:\n",
        "\n",
        "$$ P(U_1|A) = \\frac{P(U_1 ∩ A)}{P(A)} $$\n",
        "\n",
        "Ahora nuestro problema se reduce a calculas las probabilidades y sustituirlas.\n",
        "\n",
        "Comencemos calculando $ P(U_1 ∩ A) $, la cual es la probabilidad de que al tomar una pelota sea azul y provenga de la primer urna. Lo cual a su vez se puede reescribir como la probabilidad de que al tomar una pelota azul provenga de la primer urna multiplicada por la probabilidad de provenir de la primera urna.\n",
        "\n",
        "$$ P(U_1 ∩ A) = P(A|U_1)P(U_1) $$\n",
        "\n",
        "Donde $P(A|U_1)$ se puede calcular con la formula de Laplace. Mientras que $P(U_1)$ no se nos dá de manera implícita, sino que al ser la selección de urna un proceso aleatorio, podemos asumir equiprobabilidad.\n",
        "\n",
        "$$ P(U_1 ∩ A) = \\frac{4}{7}*\\frac{1}{2} = \\frac{2}{7} $$\n",
        "\n",
        "Por otro lado, $P(A)$ es la probabilidad de tomar una pelota azul de cualquiera de las urnas, por lo que hacemos uso del terorema de probabilidad total.\n",
        "\n",
        "$$ P(A) = P(A|U_1)P(U_1) + P(A|U_2)P(U_2) $$\n",
        "\n",
        "$$ P(A) = \\frac{4}{7}*\\frac{1}{2} + \\frac{4}{10}*\\frac{1}{2} = \\frac{2}{7} + \\frac{1}{5} = \\frac{17}{35} $$\n",
        "\n",
        "Ahora, solo nos queda sustituir los valores en la ecuacion de la probabilidad condicional.\n",
        "\n",
        "$$ P(U_1|A) = \\frac{P(U_1 ∩ A)}{P(A)} = \\frac{\\frac{2}{7}}{\\frac{17}{35}} = \\frac{2*35}{7*17} = \\frac{10}{17}$$\n",
        "\n",
        "Es decir, la probabilidad de que la pelota azul tomada sea de la primer urna es de $\\frac{10}{17} ≈ 0.5882 = 58.82\\%$"
      ],
      "metadata": {
        "id": "0jfN_e92S00L"
      }
    },
    {
      "cell_type": "markdown",
      "source": [
        "De igual manera podemos encontrar la probabilidad de que la pelota azul tomada sea de la segunda urna. Resultando en:\n",
        "$$ P(U_2|A) = \\frac{P(U_2 ∩ A)}{P(A)} =\\frac{P(A|U_2)P(U_2)}{P(A|U_1)P(U_1) + P(A|U_2)P(U_2)} = \\frac{\\frac{2}{10}}{\\frac{17}{35}} = \\frac{7}{17} ≈ 0.4118 = 41.18 \\% $$"
      ],
      "metadata": {
        "id": "nSONxNfPYZI_"
      }
    },
    {
      "cell_type": "markdown",
      "source": [
        "Y como curiosidad final, podemos observar otro resultado famoso en este ultimo desarrollo, conocido por el nombre de *Teorema de Bayes*."
      ],
      "metadata": {
        "id": "nR6LYN9KKx3A"
      }
    },
    {
      "cell_type": "markdown",
      "source": [
        "Ahora que ya hemos hecho memoria, podemos proseguir con el problema que hoy es foco de nuestro interéz, el problema de la ruleta."
      ],
      "metadata": {
        "id": "uucT5yauIwiH"
      }
    },
    {
      "cell_type": "markdown",
      "source": [
        "#Problema de la ruleta/disco"
      ],
      "metadata": {
        "id": "YNQHPkPj9tm_"
      }
    },
    {
      "cell_type": "markdown",
      "source": [
        "Supongamos que tenbemos un tablero de cuatro sectores. Lanzamos 2 monedas y avanzamos en sentido horario el número de caras que aparezcan. Si repetimos el procedimiento...\n",
        "\n",
        "¿Son todos los sectores igual de probables cuando pase el tiempo?"
      ],
      "metadata": {
        "id": "4LSTd9zN7pZx"
      }
    },
    {
      "cell_type": "markdown",
      "source": [
        "Imagen"
      ],
      "metadata": {
        "id": "A0KDU8o68PEI"
      }
    },
    {
      "cell_type": "markdown",
      "source": [
        "Primero, vamos a establecer claramente nuestros eventos. Sean:\n",
        "\n",
        "* N_k: el evento en que nos encontramos en el sector de color **negro** en el lanzamiento **k** de monedas.\n",
        "* R_k: el evento en que nos encontramos en el sector de color **rojo** en el lanzamiento **k** de monedas.\n",
        "* V_k: el evento en que nos encontramos en el sector de color **verde** en el lanzamiento **k** de monedas.\n",
        "* A_k: el evento en que nos encontramos en el sector de color **azul** en el lanzamiento **k** de monedas.\n",
        "\n",
        "Como la posición en el disco depende de la posición anterior y la cantidad de caras después del lanzamiento de dos monedas, analicemos como es estar en cada uno de los sectores."
      ],
      "metadata": {
        "id": "UrbCYrUeLOJ4"
      }
    },
    {
      "cell_type": "markdown",
      "source": [
        "##Sector Negro $(N_K)$\n",
        "\n"
      ],
      "metadata": {
        "id": "RP1cLgIwTyjJ"
      }
    },
    {
      "cell_type": "markdown",
      "source": [
        "Como se puede apreciar en la imagen, y al estar sujeto al movimiento en sentido horario, sabemos que al estar actualmente en el sector negro debemos de provenir de alguno de los 4 sectores del disco, pero ¿Cuál?.\n",
        "\n",
        "Pues la respuesta es que no lo sabemos, o al menos no con certeza. Esto porque dependemos del lanzamiento de dos monedas para avanzar en la ruleta, lo cual a grandes razgos es un proceso que se basa en la aleatoriedad.\n",
        "\n",
        "Y es aquí donde entra las poderosas herramientas que vimos anteriormente, la probabilidad condicional, la regla de Laplace, la particion del espacio muestral y el teorema de probabilidad total. Pero sobre todo esta última.\n",
        "\n",
        "$$ P(N_k) = P(N_k|N_{k-1})P(N_{k-1}) + P(N_k|V_{k-1})P(V_{k-1}) + P(N_k|A_{k-1})P(A_{k-1}) + P(N_k|R_{k-1})P(R_{k-1}) $$\n",
        "\n",
        "Esta ecuacion nos expresa nuestra posición actual en la ruleta (sector negro) a partir de nuestra posición anterior y la probabilidad de haber avanzado desde esa posición.\n",
        "\n",
        "Una manera de entenderlo es expresar la información conocida actualmente en función de aquella información que poseíamos en el pasado."
      ],
      "metadata": {
        "id": "PsChivb7T9FQ"
      }
    },
    {
      "cell_type": "markdown",
      "source": [
        "##Lanzamiento de monedas"
      ],
      "metadata": {
        "id": "BxstnOh-UQw4"
      }
    },
    {
      "cell_type": "markdown",
      "source": [
        "Al lanzar una moneda tenemos dos posibles resultados: caer sol (cara) o caar águila(cruz). Por lo que nuestros eventos se pueden resumir como:\n",
        "* $S$: el evento en que la moneda cae en sol.\n",
        "* $A$: el evento en que la moneda cae en águila.\n",
        "\n",
        "De esta manera, nuestro espacio muestral se puede ver escribir como $Ω = \\{S, A\\}$. Con lo que podemos intuir que las probabilidades serán $P(A) = \\frac{1}{2}$ y $P(S) = \\frac{1}{2}$.\n",
        "\n",
        "Sin embargo, al agregar una moneda se altera el espacio muestral y por ende las probabilidades de obtener cierta canidad de caraso soles. Pero primero definamos los eventos posibles en función a la cantidad de soles observados con el lanzamiento de cada par de monedas. Sean:\n",
        "* $0S$: el evento en que ninguna moneda cae en sol.\n",
        "* $1S$: el evento en que una moneda cae en sol.\n",
        "* $2S$: el evento en que dos monedas caen en sol.\n",
        "\n",
        "Notemos que para que el evento $0S$ ocurra ambas monedas deben caer en águila, para que el evento $2S$ ocurra ambas monedas deben caer en sol y para que ocurra el evento $1S$ basta con que una de las dos monedas caiga sol.\n",
        "\n",
        "Por lo que ya nos podemos dar una idea de lo que há ocurrido, pero para aclararlo aún más, nuestro espacio muestral lo construiremos a partir de tuplas con los resultados de los dos lanzamientos.\n",
        "\n",
        "$$Ω = \\{(S,S), (S,A), (A,S), (A,A)\\}$$\n",
        "\n",
        "Observando bien nuestro espacio muestral, podemos calcular las probabilidades de cada evento por medio de la regla de Laplace.\n",
        "\n",
        "$$ P(1S) = \\frac{1}{4} $$\n",
        "\n",
        "$$ P(2S) = \\frac{2}{4} = \\frac{1}{2} $$\n",
        "\n",
        "$$ P(3S) = \\frac{1}{4} $$"
      ],
      "metadata": {
        "id": "Ltx4BOFfaDkC"
      }
    },
    {
      "cell_type": "markdown",
      "source": [
        "Ahora bien, al llevar y adaptar estas probabilidades a nuestro problema obtenemos que la probabilidad de avanzar 2 pasos es $\\frac{1}{4}$, la probabilidad de avanzar 1 pazo es $\\frac{2}{4}$ y la probabilidad de no avanzar es $\\frac{1}{4}$. Con lo cual ya tenemos lo que nos hacia falta para analizar los posibles estados de nuestro sistema de ruleta."
      ],
      "metadata": {
        "id": "C0zMAT_1gjvj"
      }
    },
    {
      "cell_type": "code",
      "source": [],
      "metadata": {
        "id": "wAq3erwaHjXH"
      },
      "execution_count": null,
      "outputs": []
    },
    {
      "cell_type": "code",
      "source": [],
      "metadata": {
        "id": "-drESgD395EO"
      },
      "execution_count": null,
      "outputs": []
    },
    {
      "cell_type": "code",
      "execution_count": null,
      "metadata": {
        "id": "hsKs65K57nj-"
      },
      "outputs": [],
      "source": []
    },
    {
      "cell_type": "markdown",
      "source": [],
      "metadata": {
        "id": "dGD5irx9JsLw"
      }
    }
  ]
}